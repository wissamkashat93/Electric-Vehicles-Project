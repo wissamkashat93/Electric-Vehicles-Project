{
 "cells": [
  {
   "cell_type": "markdown",
   "id": "3dcef216-0ce9-47ca-82f9-65f3b80d506a",
   "metadata": {},
   "source": [
    "# **Electric Vehicles Project**"
   ]
  },
  {
   "cell_type": "code",
   "execution_count": 2,
   "id": "f84d94d9-c205-4723-b3b8-efc90c7c5b47",
   "metadata": {
    "tags": []
   },
   "outputs": [],
   "source": [
    "# Importing necessary libraries\n",
    "import pandas as pd\n",
    "import numpy as np\n",
    "import matplotlib.pyplot as pl\n",
    "import seaborn as sns\n",
    "import matplotlib.pyplot as plt\n",
    "import folium\n",
    "from sklearn.impute import SimpleImputer\n",
    "from sklearn.utils import resample\n",
    "from imblearn.under_sampling import RandomUnderSampler\n",
    "from imblearn.over_sampling import RandomOverSampler"
   ]
  },
  {
   "cell_type": "code",
   "execution_count": 3,
   "id": "7e33ba48-f682-4373-a58b-f032df9790ab",
   "metadata": {},
   "outputs": [],
   "source": [
    "from sklearn.model_selection import train_test_split\n",
    "from imblearn.over_sampling import SMOTE\n",
    "from sklearn.utils.class_weight import compute_class_weight\n",
    "from sklearn.ensemble import RandomForestClassifier\n",
    "from sklearn.decomposition import PCA\n",
    "from sklearn.preprocessing import StandardScaler\n",
    "from sklearn.linear_model import SGDClassifier\n",
    "from sklearn.metrics import classification_report\n",
    "from sklearn.cluster import KMeans\n",
    "from sklearn.ensemble import GradientBoostingClassifier\n",
    "from sklearn.metrics import classification_report, accuracy_score\n",
    "from sklearn.linear_model import LogisticRegression\n",
    "from sklearn.neighbors import KNeighborsClassifier\n"
   ]
  },
  {
   "cell_type": "code",
   "execution_count": 4,
   "id": "9a817062-2b3d-4257-b15c-ea892265e438",
   "metadata": {
    "tags": []
   },
   "outputs": [],
   "source": [
    "from sklearn.model_selection import train_test_split\n",
    "from imblearn.over_sampling import SMOTE"
   ]
  },
  {
   "cell_type": "markdown",
   "id": "c8ca3e89-301d-41bd-bd4a-d51e0b46fd20",
   "metadata": {},
   "source": [
    "## Loading The database:"
   ]
  },
  {
   "cell_type": "code",
   "execution_count": 5,
   "id": "da5340e4-74f4-4e3a-ab62-88b8484abae9",
   "metadata": {
    "tags": []
   },
   "outputs": [
    {
     "name": "stdout",
     "output_type": "stream",
     "text": [
      "2024-03-17 18:13:17     704669 alt_fuel_stations.csv\n",
      "2024-03-17 17:47:02   42030494 Electric_Vehicle_Population_Data.csv\n",
      "2024-03-17 17:47:02  319658341 Electric_Vehicle_Title_and_Registration_Activity.csv\n"
     ]
    }
   ],
   "source": [
    "# AWS S3 file listings\n",
    "!aws s3 ls s3://team2buckets3/alt_fuel_stations.csv\n",
    "!aws s3 ls s3://team2buckets3/Electric_Vehicle_Population_Data.csv\n",
    "!aws s3 ls s3://team2buckets3/Electric_Vehicle_Title_and_Registration_Activity.csv"
   ]
  },
  {
   "cell_type": "code",
   "execution_count": 6,
   "id": "f6026db4-20a1-418b-859b-692cc2b66fd3",
   "metadata": {
    "tags": []
   },
   "outputs": [
    {
     "name": "stdout",
     "output_type": "stream",
     "text": [
      "download: s3://team2buckets3/alt_fuel_stations.csv to ./alt_fuel_stations.csv\n",
      "download: s3://team2buckets3/Electric_Vehicle_Population_Data.csv to ./Electric_Vehicle_Population_Data.csv\n",
      "download: s3://team2buckets3/Electric_Vehicle_Title_and_Registration_Activity.csv to ./Electric_Vehicle_Title_and_Registration_Activity.csv\n"
     ]
    }
   ],
   "source": [
    "# AWS S3 file copying\n",
    "!aws s3 cp s3://team2buckets3/alt_fuel_stations.csv ./alt_fuel_stations.csv\n",
    "!aws s3 cp s3://team2buckets3/Electric_Vehicle_Population_Data.csv ./Electric_Vehicle_Population_Data.csv\n",
    "!aws s3 cp s3://team2buckets3/Electric_Vehicle_Title_and_Registration_Activity.csv ./Electric_Vehicle_Title_and_Registration_Activity.csv"
   ]
  },
  {
   "cell_type": "code",
   "execution_count": 7,
   "id": "1f5ef8d8-6b81-4469-b461-d49588061d38",
   "metadata": {
    "tags": []
   },
   "outputs": [],
   "source": [
    "# Reading CSV files into pandas DataFrames\n",
    "fuel_stations = pd.read_csv('alt_fuel_stations.csv')\n",
    "ev_population = pd.read_csv('Electric_Vehicle_Population_Data.csv')\n",
    "ev_registration = pd.read_csv('Electric_Vehicle_Title_and_Registration_Activity.csv')"
   ]
  },
  {
   "cell_type": "markdown",
   "id": "68658a17-1683-477c-9d94-313d1089dd85",
   "metadata": {},
   "source": [
    "## Understand the datebase:"
   ]
  },
  {
   "cell_type": "markdown",
   "id": "8646f371-62e3-428e-adc7-51138339198a",
   "metadata": {},
   "source": [
    "### Fuel Stations Data:"
   ]
  },
  {
   "cell_type": "code",
   "execution_count": 8,
   "id": "779f2587-aade-4aa5-bc1d-458f17e83336",
   "metadata": {
    "tags": []
   },
   "outputs": [
    {
     "name": "stdout",
     "output_type": "stream",
     "text": [
      "Displaying Fuel Stations data:\n"
     ]
    },
    {
     "data": {
      "text/html": [
       "<div>\n",
       "<style scoped>\n",
       "    .dataframe tbody tr th:only-of-type {\n",
       "        vertical-align: middle;\n",
       "    }\n",
       "\n",
       "    .dataframe tbody tr th {\n",
       "        vertical-align: top;\n",
       "    }\n",
       "\n",
       "    .dataframe thead th {\n",
       "        text-align: right;\n",
       "    }\n",
       "</style>\n",
       "<table border=\"1\" class=\"dataframe\">\n",
       "  <thead>\n",
       "    <tr style=\"text-align: right;\">\n",
       "      <th></th>\n",
       "      <th>Fuel Type Code</th>\n",
       "      <th>Station Name</th>\n",
       "      <th>Street Address</th>\n",
       "      <th>Intersection Directions</th>\n",
       "      <th>City</th>\n",
       "      <th>State</th>\n",
       "      <th>ZIP</th>\n",
       "      <th>Plus4</th>\n",
       "      <th>Station Phone</th>\n",
       "      <th>Status Code</th>\n",
       "      <th>...</th>\n",
       "      <th>Restricted Access</th>\n",
       "      <th>RD Blends</th>\n",
       "      <th>RD Blends (French)</th>\n",
       "      <th>RD Blended with Biodiesel</th>\n",
       "      <th>RD Maximum Biodiesel Level</th>\n",
       "      <th>NPS Unit Name</th>\n",
       "      <th>CNG Station Sells Renewable Natural Gas</th>\n",
       "      <th>LNG Station Sells Renewable Natural Gas</th>\n",
       "      <th>Maximum Vehicle Class</th>\n",
       "      <th>EV Workplace Charging</th>\n",
       "    </tr>\n",
       "  </thead>\n",
       "  <tbody>\n",
       "    <tr>\n",
       "      <th>0</th>\n",
       "      <td>ELEC</td>\n",
       "      <td>City of Lacey - City Hall Parking</td>\n",
       "      <td>420 College St</td>\n",
       "      <td>At 3rd Ave SE, next to police station</td>\n",
       "      <td>Lacey</td>\n",
       "      <td>WA</td>\n",
       "      <td>98503</td>\n",
       "      <td>NaN</td>\n",
       "      <td>360-491-3214</td>\n",
       "      <td>E</td>\n",
       "      <td>...</td>\n",
       "      <td>False</td>\n",
       "      <td>NaN</td>\n",
       "      <td>NaN</td>\n",
       "      <td>NaN</td>\n",
       "      <td>NaN</td>\n",
       "      <td>NaN</td>\n",
       "      <td>NaN</td>\n",
       "      <td>NaN</td>\n",
       "      <td>LD</td>\n",
       "      <td>False</td>\n",
       "    </tr>\n",
       "    <tr>\n",
       "      <th>1</th>\n",
       "      <td>ELEC</td>\n",
       "      <td>Seattle-Tacoma International Airport - General...</td>\n",
       "      <td>17801 Pacific Hwy S</td>\n",
       "      <td>5th floor parking garage; rows D, G, and I</td>\n",
       "      <td>Seattle</td>\n",
       "      <td>WA</td>\n",
       "      <td>98188</td>\n",
       "      <td>NaN</td>\n",
       "      <td>206-787-5388</td>\n",
       "      <td>E</td>\n",
       "      <td>...</td>\n",
       "      <td>False</td>\n",
       "      <td>NaN</td>\n",
       "      <td>NaN</td>\n",
       "      <td>NaN</td>\n",
       "      <td>NaN</td>\n",
       "      <td>NaN</td>\n",
       "      <td>NaN</td>\n",
       "      <td>NaN</td>\n",
       "      <td>LD</td>\n",
       "      <td>False</td>\n",
       "    </tr>\n",
       "    <tr>\n",
       "      <th>2</th>\n",
       "      <td>ELEC</td>\n",
       "      <td>Avista Corp</td>\n",
       "      <td>1411 E Mission Ave</td>\n",
       "      <td>NaN</td>\n",
       "      <td>Spokane</td>\n",
       "      <td>WA</td>\n",
       "      <td>99252</td>\n",
       "      <td>NaN</td>\n",
       "      <td>509-489-0500</td>\n",
       "      <td>E</td>\n",
       "      <td>...</td>\n",
       "      <td>False</td>\n",
       "      <td>NaN</td>\n",
       "      <td>NaN</td>\n",
       "      <td>NaN</td>\n",
       "      <td>NaN</td>\n",
       "      <td>NaN</td>\n",
       "      <td>NaN</td>\n",
       "      <td>NaN</td>\n",
       "      <td>LD</td>\n",
       "      <td>False</td>\n",
       "    </tr>\n",
       "  </tbody>\n",
       "</table>\n",
       "<p>3 rows × 74 columns</p>\n",
       "</div>"
      ],
      "text/plain": [
       "  Fuel Type Code                                       Station Name  \\\n",
       "0           ELEC                  City of Lacey - City Hall Parking   \n",
       "1           ELEC  Seattle-Tacoma International Airport - General...   \n",
       "2           ELEC                                        Avista Corp   \n",
       "\n",
       "        Street Address                     Intersection Directions     City  \\\n",
       "0       420 College St       At 3rd Ave SE, next to police station    Lacey   \n",
       "1  17801 Pacific Hwy S  5th floor parking garage; rows D, G, and I  Seattle   \n",
       "2   1411 E Mission Ave                                         NaN  Spokane   \n",
       "\n",
       "  State    ZIP  Plus4 Station Phone Status Code  ...  Restricted Access  \\\n",
       "0    WA  98503    NaN  360-491-3214           E  ...              False   \n",
       "1    WA  98188    NaN  206-787-5388           E  ...              False   \n",
       "2    WA  99252    NaN  509-489-0500           E  ...              False   \n",
       "\n",
       "  RD Blends RD Blends (French) RD Blended with Biodiesel  \\\n",
       "0       NaN                NaN                       NaN   \n",
       "1       NaN                NaN                       NaN   \n",
       "2       NaN                NaN                       NaN   \n",
       "\n",
       "   RD Maximum Biodiesel Level  NPS Unit Name  \\\n",
       "0                         NaN            NaN   \n",
       "1                         NaN            NaN   \n",
       "2                         NaN            NaN   \n",
       "\n",
       "   CNG Station Sells Renewable Natural Gas  \\\n",
       "0                                      NaN   \n",
       "1                                      NaN   \n",
       "2                                      NaN   \n",
       "\n",
       "   LNG Station Sells Renewable Natural Gas  Maximum Vehicle Class  \\\n",
       "0                                      NaN                     LD   \n",
       "1                                      NaN                     LD   \n",
       "2                                      NaN                     LD   \n",
       "\n",
       "   EV Workplace Charging  \n",
       "0                  False  \n",
       "1                  False  \n",
       "2                  False  \n",
       "\n",
       "[3 rows x 74 columns]"
      ]
     },
     "execution_count": 8,
     "metadata": {},
     "output_type": "execute_result"
    }
   ],
   "source": [
    "print(\"Displaying Fuel Stations data:\")\n",
    "fuel_stations.head(3)"
   ]
  },
  {
   "cell_type": "code",
   "execution_count": 9,
   "id": "90e2034f-bce8-4ab7-b5ab-8219c4ada011",
   "metadata": {
    "tags": []
   },
   "outputs": [
    {
     "name": "stdout",
     "output_type": "stream",
     "text": [
      "Data Information:\n",
      "<class 'pandas.core.frame.DataFrame'>\n",
      "RangeIndex: 2138 entries, 0 to 2137\n",
      "Data columns (total 74 columns):\n",
      " #   Column                                   Non-Null Count  Dtype  \n",
      "---  ------                                   --------------  -----  \n",
      " 0   Fuel Type Code                           2138 non-null   object \n",
      " 1   Station Name                             2138 non-null   object \n",
      " 2   Street Address                           2138 non-null   object \n",
      " 3   Intersection Directions                  87 non-null     object \n",
      " 4   City                                     2138 non-null   object \n",
      " 5   State                                    2138 non-null   object \n",
      " 6   ZIP                                      2138 non-null   object \n",
      " 7   Plus4                                    0 non-null      float64\n",
      " 8   Station Phone                            2122 non-null   object \n",
      " 9   Status Code                              2138 non-null   object \n",
      " 10  Expected Date                            0 non-null      float64\n",
      " 11  Groups With Access Code                  2138 non-null   object \n",
      " 12  Access Days Time                         1952 non-null   object \n",
      " 13  Cards Accepted                           128 non-null    object \n",
      " 14  BD Blends                                0 non-null      float64\n",
      " 15  NG Fill Type Code                        0 non-null      float64\n",
      " 16  NG PSI                                   0 non-null      float64\n",
      " 17  EV Level1 EVSE Num                       5 non-null      float64\n",
      " 18  EV Level2 EVSE Num                       1881 non-null   float64\n",
      " 19  EV DC Fast Count                         321 non-null    float64\n",
      " 20  EV Other Info                            2 non-null      object \n",
      " 21  EV Network                               2138 non-null   object \n",
      " 22  EV Network Web                           1955 non-null   object \n",
      " 23  Geocode Status                           2138 non-null   object \n",
      " 24  Latitude                                 2138 non-null   float64\n",
      " 25  Longitude                                2138 non-null   float64\n",
      " 26  Date Last Confirmed                      2135 non-null   object \n",
      " 27  ID                                       2138 non-null   int64  \n",
      " 28  Updated At                               2138 non-null   object \n",
      " 29  Owner Type Code                          369 non-null    object \n",
      " 30  Federal Agency ID                        0 non-null      float64\n",
      " 31  Federal Agency Name                      0 non-null      float64\n",
      " 32  Open Date                                2137 non-null   object \n",
      " 33  Hydrogen Status Link                     0 non-null      float64\n",
      " 34  NG Vehicle Class                         0 non-null      float64\n",
      " 35  LPG Primary                              0 non-null      float64\n",
      " 36  E85 Blender Pump                         0 non-null      float64\n",
      " 37  EV Connector Types                       2138 non-null   object \n",
      " 38  Country                                  2138 non-null   object \n",
      " 39  Intersection Directions (French)         0 non-null      float64\n",
      " 40  Access Days Time (French)                0 non-null      float64\n",
      " 41  BD Blends (French)                       0 non-null      float64\n",
      " 42  Groups With Access Code (French)         2138 non-null   object \n",
      " 43  Hydrogen Is Retail                       0 non-null      float64\n",
      " 44  Access Code                              2138 non-null   object \n",
      " 45  Access Detail Code                       98 non-null     object \n",
      " 46  Federal Agency Code                      0 non-null      float64\n",
      " 47  Facility Type                            363 non-null    object \n",
      " 48  CNG Dispenser Num                        0 non-null      float64\n",
      " 49  CNG On-Site Renewable Source             0 non-null      float64\n",
      " 50  CNG Total Compression Capacity           0 non-null      float64\n",
      " 51  CNG Storage Capacity                     0 non-null      float64\n",
      " 52  LNG On-Site Renewable Source             0 non-null      float64\n",
      " 53  E85 Other Ethanol Blends                 0 non-null      float64\n",
      " 54  EV Pricing                               514 non-null    object \n",
      " 55  EV Pricing (French)                      0 non-null      float64\n",
      " 56  LPG Nozzle Types                         0 non-null      float64\n",
      " 57  Hydrogen Pressures                       0 non-null      float64\n",
      " 58  Hydrogen Standards                       0 non-null      float64\n",
      " 59  CNG Fill Type Code                       0 non-null      float64\n",
      " 60  CNG PSI                                  0 non-null      float64\n",
      " 61  CNG Vehicle Class                        0 non-null      float64\n",
      " 62  LNG Vehicle Class                        0 non-null      float64\n",
      " 63  EV On-Site Renewable Source              8 non-null      object \n",
      " 64  Restricted Access                        319 non-null    object \n",
      " 65  RD Blends                                0 non-null      float64\n",
      " 66  RD Blends (French)                       0 non-null      float64\n",
      " 67  RD Blended with Biodiesel                0 non-null      float64\n",
      " 68  RD Maximum Biodiesel Level               0 non-null      float64\n",
      " 69  NPS Unit Name                            4 non-null      object \n",
      " 70  CNG Station Sells Renewable Natural Gas  0 non-null      float64\n",
      " 71  LNG Station Sells Renewable Natural Gas  0 non-null      float64\n",
      " 72  Maximum Vehicle Class                    253 non-null    object \n",
      " 73  EV Workplace Charging                    2138 non-null   bool   \n",
      "dtypes: bool(1), float64(41), int64(1), object(31)\n",
      "memory usage: 1.2+ MB\n",
      "\n",
      "Summary Statistics for fuel stations data:\n"
     ]
    },
    {
     "data": {
      "text/html": [
       "<div>\n",
       "<style scoped>\n",
       "    .dataframe tbody tr th:only-of-type {\n",
       "        vertical-align: middle;\n",
       "    }\n",
       "\n",
       "    .dataframe tbody tr th {\n",
       "        vertical-align: top;\n",
       "    }\n",
       "\n",
       "    .dataframe thead th {\n",
       "        text-align: right;\n",
       "    }\n",
       "</style>\n",
       "<table border=\"1\" class=\"dataframe\">\n",
       "  <thead>\n",
       "    <tr style=\"text-align: right;\">\n",
       "      <th></th>\n",
       "      <th>Plus4</th>\n",
       "      <th>Expected Date</th>\n",
       "      <th>BD Blends</th>\n",
       "      <th>NG Fill Type Code</th>\n",
       "      <th>NG PSI</th>\n",
       "      <th>EV Level1 EVSE Num</th>\n",
       "      <th>EV Level2 EVSE Num</th>\n",
       "      <th>EV DC Fast Count</th>\n",
       "      <th>Latitude</th>\n",
       "      <th>Longitude</th>\n",
       "      <th>...</th>\n",
       "      <th>CNG Fill Type Code</th>\n",
       "      <th>CNG PSI</th>\n",
       "      <th>CNG Vehicle Class</th>\n",
       "      <th>LNG Vehicle Class</th>\n",
       "      <th>RD Blends</th>\n",
       "      <th>RD Blends (French)</th>\n",
       "      <th>RD Blended with Biodiesel</th>\n",
       "      <th>RD Maximum Biodiesel Level</th>\n",
       "      <th>CNG Station Sells Renewable Natural Gas</th>\n",
       "      <th>LNG Station Sells Renewable Natural Gas</th>\n",
       "    </tr>\n",
       "  </thead>\n",
       "  <tbody>\n",
       "    <tr>\n",
       "      <th>count</th>\n",
       "      <td>0.0</td>\n",
       "      <td>0.0</td>\n",
       "      <td>0.0</td>\n",
       "      <td>0.0</td>\n",
       "      <td>0.0</td>\n",
       "      <td>5.00000</td>\n",
       "      <td>1881.000000</td>\n",
       "      <td>321.000000</td>\n",
       "      <td>2138.000000</td>\n",
       "      <td>2138.000000</td>\n",
       "      <td>...</td>\n",
       "      <td>0.0</td>\n",
       "      <td>0.0</td>\n",
       "      <td>0.0</td>\n",
       "      <td>0.0</td>\n",
       "      <td>0.0</td>\n",
       "      <td>0.0</td>\n",
       "      <td>0.0</td>\n",
       "      <td>0.0</td>\n",
       "      <td>0.0</td>\n",
       "      <td>0.0</td>\n",
       "    </tr>\n",
       "    <tr>\n",
       "      <th>mean</th>\n",
       "      <td>NaN</td>\n",
       "      <td>NaN</td>\n",
       "      <td>NaN</td>\n",
       "      <td>NaN</td>\n",
       "      <td>NaN</td>\n",
       "      <td>3.80000</td>\n",
       "      <td>2.332270</td>\n",
       "      <td>3.725857</td>\n",
       "      <td>47.452871</td>\n",
       "      <td>-121.855048</td>\n",
       "      <td>...</td>\n",
       "      <td>NaN</td>\n",
       "      <td>NaN</td>\n",
       "      <td>NaN</td>\n",
       "      <td>NaN</td>\n",
       "      <td>NaN</td>\n",
       "      <td>NaN</td>\n",
       "      <td>NaN</td>\n",
       "      <td>NaN</td>\n",
       "      <td>NaN</td>\n",
       "      <td>NaN</td>\n",
       "    </tr>\n",
       "    <tr>\n",
       "      <th>std</th>\n",
       "      <td>NaN</td>\n",
       "      <td>NaN</td>\n",
       "      <td>NaN</td>\n",
       "      <td>NaN</td>\n",
       "      <td>NaN</td>\n",
       "      <td>3.63318</td>\n",
       "      <td>2.608429</td>\n",
       "      <td>3.888234</td>\n",
       "      <td>0.617638</td>\n",
       "      <td>1.452720</td>\n",
       "      <td>...</td>\n",
       "      <td>NaN</td>\n",
       "      <td>NaN</td>\n",
       "      <td>NaN</td>\n",
       "      <td>NaN</td>\n",
       "      <td>NaN</td>\n",
       "      <td>NaN</td>\n",
       "      <td>NaN</td>\n",
       "      <td>NaN</td>\n",
       "      <td>NaN</td>\n",
       "      <td>NaN</td>\n",
       "    </tr>\n",
       "    <tr>\n",
       "      <th>min</th>\n",
       "      <td>NaN</td>\n",
       "      <td>NaN</td>\n",
       "      <td>NaN</td>\n",
       "      <td>NaN</td>\n",
       "      <td>NaN</td>\n",
       "      <td>1.00000</td>\n",
       "      <td>1.000000</td>\n",
       "      <td>1.000000</td>\n",
       "      <td>45.562567</td>\n",
       "      <td>-124.662924</td>\n",
       "      <td>...</td>\n",
       "      <td>NaN</td>\n",
       "      <td>NaN</td>\n",
       "      <td>NaN</td>\n",
       "      <td>NaN</td>\n",
       "      <td>NaN</td>\n",
       "      <td>NaN</td>\n",
       "      <td>NaN</td>\n",
       "      <td>NaN</td>\n",
       "      <td>NaN</td>\n",
       "      <td>NaN</td>\n",
       "    </tr>\n",
       "    <tr>\n",
       "      <th>25%</th>\n",
       "      <td>NaN</td>\n",
       "      <td>NaN</td>\n",
       "      <td>NaN</td>\n",
       "      <td>NaN</td>\n",
       "      <td>NaN</td>\n",
       "      <td>2.00000</td>\n",
       "      <td>2.000000</td>\n",
       "      <td>1.000000</td>\n",
       "      <td>47.302726</td>\n",
       "      <td>-122.377587</td>\n",
       "      <td>...</td>\n",
       "      <td>NaN</td>\n",
       "      <td>NaN</td>\n",
       "      <td>NaN</td>\n",
       "      <td>NaN</td>\n",
       "      <td>NaN</td>\n",
       "      <td>NaN</td>\n",
       "      <td>NaN</td>\n",
       "      <td>NaN</td>\n",
       "      <td>NaN</td>\n",
       "      <td>NaN</td>\n",
       "    </tr>\n",
       "    <tr>\n",
       "      <th>50%</th>\n",
       "      <td>NaN</td>\n",
       "      <td>NaN</td>\n",
       "      <td>NaN</td>\n",
       "      <td>NaN</td>\n",
       "      <td>NaN</td>\n",
       "      <td>2.00000</td>\n",
       "      <td>2.000000</td>\n",
       "      <td>2.000000</td>\n",
       "      <td>47.615515</td>\n",
       "      <td>-122.315505</td>\n",
       "      <td>...</td>\n",
       "      <td>NaN</td>\n",
       "      <td>NaN</td>\n",
       "      <td>NaN</td>\n",
       "      <td>NaN</td>\n",
       "      <td>NaN</td>\n",
       "      <td>NaN</td>\n",
       "      <td>NaN</td>\n",
       "      <td>NaN</td>\n",
       "      <td>NaN</td>\n",
       "      <td>NaN</td>\n",
       "    </tr>\n",
       "    <tr>\n",
       "      <th>75%</th>\n",
       "      <td>NaN</td>\n",
       "      <td>NaN</td>\n",
       "      <td>NaN</td>\n",
       "      <td>NaN</td>\n",
       "      <td>NaN</td>\n",
       "      <td>4.00000</td>\n",
       "      <td>2.000000</td>\n",
       "      <td>4.000000</td>\n",
       "      <td>47.663247</td>\n",
       "      <td>-122.175931</td>\n",
       "      <td>...</td>\n",
       "      <td>NaN</td>\n",
       "      <td>NaN</td>\n",
       "      <td>NaN</td>\n",
       "      <td>NaN</td>\n",
       "      <td>NaN</td>\n",
       "      <td>NaN</td>\n",
       "      <td>NaN</td>\n",
       "      <td>NaN</td>\n",
       "      <td>NaN</td>\n",
       "      <td>NaN</td>\n",
       "    </tr>\n",
       "    <tr>\n",
       "      <th>max</th>\n",
       "      <td>NaN</td>\n",
       "      <td>NaN</td>\n",
       "      <td>NaN</td>\n",
       "      <td>NaN</td>\n",
       "      <td>NaN</td>\n",
       "      <td>10.00000</td>\n",
       "      <td>68.000000</td>\n",
       "      <td>20.000000</td>\n",
       "      <td>48.995255</td>\n",
       "      <td>-117.043496</td>\n",
       "      <td>...</td>\n",
       "      <td>NaN</td>\n",
       "      <td>NaN</td>\n",
       "      <td>NaN</td>\n",
       "      <td>NaN</td>\n",
       "      <td>NaN</td>\n",
       "      <td>NaN</td>\n",
       "      <td>NaN</td>\n",
       "      <td>NaN</td>\n",
       "      <td>NaN</td>\n",
       "      <td>NaN</td>\n",
       "    </tr>\n",
       "  </tbody>\n",
       "</table>\n",
       "<p>8 rows × 42 columns</p>\n",
       "</div>"
      ],
      "text/plain": [
       "       Plus4  Expected Date  BD Blends  NG Fill Type Code  NG PSI  \\\n",
       "count    0.0            0.0        0.0                0.0     0.0   \n",
       "mean     NaN            NaN        NaN                NaN     NaN   \n",
       "std      NaN            NaN        NaN                NaN     NaN   \n",
       "min      NaN            NaN        NaN                NaN     NaN   \n",
       "25%      NaN            NaN        NaN                NaN     NaN   \n",
       "50%      NaN            NaN        NaN                NaN     NaN   \n",
       "75%      NaN            NaN        NaN                NaN     NaN   \n",
       "max      NaN            NaN        NaN                NaN     NaN   \n",
       "\n",
       "       EV Level1 EVSE Num  EV Level2 EVSE Num  EV DC Fast Count     Latitude  \\\n",
       "count             5.00000         1881.000000        321.000000  2138.000000   \n",
       "mean              3.80000            2.332270          3.725857    47.452871   \n",
       "std               3.63318            2.608429          3.888234     0.617638   \n",
       "min               1.00000            1.000000          1.000000    45.562567   \n",
       "25%               2.00000            2.000000          1.000000    47.302726   \n",
       "50%               2.00000            2.000000          2.000000    47.615515   \n",
       "75%               4.00000            2.000000          4.000000    47.663247   \n",
       "max              10.00000           68.000000         20.000000    48.995255   \n",
       "\n",
       "         Longitude  ...  CNG Fill Type Code  CNG PSI  CNG Vehicle Class  \\\n",
       "count  2138.000000  ...                 0.0      0.0                0.0   \n",
       "mean   -121.855048  ...                 NaN      NaN                NaN   \n",
       "std       1.452720  ...                 NaN      NaN                NaN   \n",
       "min    -124.662924  ...                 NaN      NaN                NaN   \n",
       "25%    -122.377587  ...                 NaN      NaN                NaN   \n",
       "50%    -122.315505  ...                 NaN      NaN                NaN   \n",
       "75%    -122.175931  ...                 NaN      NaN                NaN   \n",
       "max    -117.043496  ...                 NaN      NaN                NaN   \n",
       "\n",
       "       LNG Vehicle Class  RD Blends  RD Blends (French)  \\\n",
       "count                0.0        0.0                 0.0   \n",
       "mean                 NaN        NaN                 NaN   \n",
       "std                  NaN        NaN                 NaN   \n",
       "min                  NaN        NaN                 NaN   \n",
       "25%                  NaN        NaN                 NaN   \n",
       "50%                  NaN        NaN                 NaN   \n",
       "75%                  NaN        NaN                 NaN   \n",
       "max                  NaN        NaN                 NaN   \n",
       "\n",
       "       RD Blended with Biodiesel  RD Maximum Biodiesel Level  \\\n",
       "count                        0.0                         0.0   \n",
       "mean                         NaN                         NaN   \n",
       "std                          NaN                         NaN   \n",
       "min                          NaN                         NaN   \n",
       "25%                          NaN                         NaN   \n",
       "50%                          NaN                         NaN   \n",
       "75%                          NaN                         NaN   \n",
       "max                          NaN                         NaN   \n",
       "\n",
       "       CNG Station Sells Renewable Natural Gas  \\\n",
       "count                                      0.0   \n",
       "mean                                       NaN   \n",
       "std                                        NaN   \n",
       "min                                        NaN   \n",
       "25%                                        NaN   \n",
       "50%                                        NaN   \n",
       "75%                                        NaN   \n",
       "max                                        NaN   \n",
       "\n",
       "       LNG Station Sells Renewable Natural Gas  \n",
       "count                                      0.0  \n",
       "mean                                       NaN  \n",
       "std                                        NaN  \n",
       "min                                        NaN  \n",
       "25%                                        NaN  \n",
       "50%                                        NaN  \n",
       "75%                                        NaN  \n",
       "max                                        NaN  \n",
       "\n",
       "[8 rows x 42 columns]"
      ]
     },
     "execution_count": 9,
     "metadata": {},
     "output_type": "execute_result"
    }
   ],
   "source": [
    "# 1. Data Info\n",
    "print(\"Data Information:\")\n",
    "fuel_stations.info()\n",
    "\n",
    "# 2. Summary Statistics\n",
    "print(\"\\nSummary Statistics for fuel stations data:\")\n",
    "fuel_stations.describe()"
   ]
  },
  {
   "cell_type": "markdown",
   "id": "5bb9544f-c8d9-46d3-aed9-97bcc5968028",
   "metadata": {
    "tags": []
   },
   "source": [
    "## Data cleaning"
   ]
  },
  {
   "cell_type": "code",
   "execution_count": 10,
   "id": "4801ef74-d8dd-4e13-8e85-f7986863b802",
   "metadata": {
    "tags": []
   },
   "outputs": [
    {
     "name": "stdout",
     "output_type": "stream",
     "text": [
      "<class 'pandas.core.frame.DataFrame'>\n",
      "RangeIndex: 2138 entries, 0 to 2137\n",
      "Data columns (total 30 columns):\n",
      " #   Column                            Non-Null Count  Dtype  \n",
      "---  ------                            --------------  -----  \n",
      " 0   Fuel Type Code                    2138 non-null   object \n",
      " 1   Station Name                      2138 non-null   object \n",
      " 2   Street Address                    2138 non-null   object \n",
      " 3   Intersection Directions           87 non-null     object \n",
      " 4   City                              2138 non-null   object \n",
      " 5   State                             2138 non-null   object \n",
      " 6   ZIP                               2138 non-null   object \n",
      " 7   Station Phone                     2122 non-null   object \n",
      " 8   Status Code                       2138 non-null   object \n",
      " 9   Groups With Access Code           2138 non-null   object \n",
      " 10  EV Level2 EVSE Num                1881 non-null   float64\n",
      " 11  EV DC Fast Count                  321 non-null    float64\n",
      " 12  EV Network                        2138 non-null   object \n",
      " 13  Geocode Status                    2138 non-null   object \n",
      " 14  Latitude                          2138 non-null   float64\n",
      " 15  Longitude                         2138 non-null   float64\n",
      " 16  ID                                2138 non-null   int64  \n",
      " 17  Updated At                        2138 non-null   object \n",
      " 18  Open Date                         2137 non-null   object \n",
      " 19  EV Connector Types                2138 non-null   object \n",
      " 20  Country                           2138 non-null   object \n",
      " 21  Groups With Access Code (French)  2138 non-null   object \n",
      " 22  Access Code                       2138 non-null   object \n",
      " 23  Access Detail Code                98 non-null     object \n",
      " 24  Facility Type                     363 non-null    object \n",
      " 25  EV Pricing                        514 non-null    object \n",
      " 26  EV On-Site Renewable Source       8 non-null      object \n",
      " 27  Restricted Access                 319 non-null    object \n",
      " 28  NPS Unit Name                     4 non-null      object \n",
      " 29  Maximum Vehicle Class             253 non-null    object \n",
      "dtypes: float64(4), int64(1), object(25)\n",
      "memory usage: 501.2+ KB\n",
      "None\n"
     ]
    }
   ],
   "source": [
    "# List of unnecessary columns\n",
    "unnecessary_columns = ['Plus4', 'Expected Date', 'BD Blends', 'NG Fill Type Code', \n",
    "                       'NG PSI', 'EV Level1 EVSE Num', 'Hydrogen Status Link', \n",
    "                       'NG Vehicle Class', 'LPG Primary', 'E85 Blender Pump', \n",
    "                       'Intersection Directions (French)', 'Access Days Time (French)', \n",
    "                       'BD Blends (French)', 'Hydrogen Is Retail', 'Federal Agency Code', \n",
    "                       'CNG Dispenser Num', 'CNG On-Site Renewable Source', \n",
    "                       'CNG Total Compression Capacity', 'CNG Storage Capacity', \n",
    "                       'LNG On-Site Renewable Source', 'E85 Other Ethanol Blends', \n",
    "                       'EV Pricing (French)', 'LPG Nozzle Types', 'Hydrogen Pressures', \n",
    "                       'Hydrogen Standards', 'CNG Fill Type Code', 'CNG PSI', \n",
    "                       'CNG Vehicle Class', 'LNG Vehicle Class', 'EV Workplace Charging', \n",
    "                       'RD Blends', 'RD Blends (French)', 'RD Blended with Biodiesel', \n",
    "                       'RD Maximum Biodiesel Level', 'CNG Station Sells Renewable Natural Gas', \n",
    "                       'LNG Station Sells Renewable Natural Gas', 'Access Days Time', 'Cards Accepted', \n",
    "                       'EV Other Info', 'EV Network Web', 'Date Last Confirmed', 'Owner Type Code', \n",
    "                       'Federal Agency Name' ,'Federal Agency ID']\n",
    "\n",
    "# Drop unnecessary columns\n",
    "fuel_stations = fuel_stations.drop(columns=unnecessary_columns)\n",
    "\n",
    "# Check the updated DataFrame\n",
    "print(fuel_stations.info())"
   ]
  },
  {
   "cell_type": "code",
   "execution_count": 11,
   "id": "4dfe655a-800e-4051-b4ad-aa9452c4f659",
   "metadata": {
    "tags": []
   },
   "outputs": [
    {
     "name": "stdout",
     "output_type": "stream",
     "text": [
      "Missing values:\n",
      " Fuel Type Code                         0\n",
      "Station Name                           0\n",
      "Street Address                         0\n",
      "Intersection Directions             2051\n",
      "City                                   0\n",
      "State                                  0\n",
      "ZIP                                    0\n",
      "Station Phone                         16\n",
      "Status Code                            0\n",
      "Groups With Access Code                0\n",
      "EV Level2 EVSE Num                   257\n",
      "EV DC Fast Count                    1817\n",
      "EV Network                             0\n",
      "Geocode Status                         0\n",
      "Latitude                               0\n",
      "Longitude                              0\n",
      "ID                                     0\n",
      "Updated At                             0\n",
      "Open Date                              1\n",
      "EV Connector Types                     0\n",
      "Country                                0\n",
      "Groups With Access Code (French)       0\n",
      "Access Code                            0\n",
      "Access Detail Code                  2040\n",
      "Facility Type                       1775\n",
      "EV Pricing                          1624\n",
      "EV On-Site Renewable Source         2130\n",
      "Restricted Access                   1819\n",
      "NPS Unit Name                       2134\n",
      "Maximum Vehicle Class               1885\n",
      "dtype: int64\n"
     ]
    }
   ],
   "source": [
    "# Check for missing values\n",
    "missing_values = fuel_stations.isnull().sum()\n",
    "print(\"Missing values:\\n\", missing_values)"
   ]
  },
  {
   "cell_type": "code",
   "execution_count": 12,
   "id": "7d73a2dd-700d-4a48-a2cd-daabc304e100",
   "metadata": {
    "tags": []
   },
   "outputs": [
    {
     "name": "stdout",
     "output_type": "stream",
     "text": [
      "Fuel Type Code                      0\n",
      "Station Name                        0\n",
      "Street Address                      0\n",
      "Intersection Directions             0\n",
      "City                                0\n",
      "State                               0\n",
      "ZIP                                 0\n",
      "Station Phone                       0\n",
      "Status Code                         0\n",
      "Groups With Access Code             0\n",
      "EV Level2 EVSE Num                  0\n",
      "EV DC Fast Count                    0\n",
      "EV Network                          0\n",
      "Geocode Status                      0\n",
      "Latitude                            0\n",
      "Longitude                           0\n",
      "ID                                  0\n",
      "Updated At                          0\n",
      "Open Date                           0\n",
      "EV Connector Types                  0\n",
      "Country                             0\n",
      "Groups With Access Code (French)    0\n",
      "Access Code                         0\n",
      "Access Detail Code                  0\n",
      "Facility Type                       0\n",
      "EV Pricing                          0\n",
      "EV On-Site Renewable Source         0\n",
      "Restricted Access                   0\n",
      "NPS Unit Name                       0\n",
      "Maximum Vehicle Class               0\n",
      "dtype: int64\n"
     ]
    }
   ],
   "source": [
    "# Filling missing values\n",
    "fuel_stations['Intersection Directions'].fillna('No directions provided', inplace=True)\n",
    "fuel_stations['Station Phone'].fillna('', inplace=True)\n",
    "\n",
    "median_ev_level2 = fuel_stations['EV Level2 EVSE Num'].median()\n",
    "fuel_stations['EV Level2 EVSE Num'].fillna(median_ev_level2, inplace=True)\n",
    "fuel_stations['EV DC Fast Count'].fillna(0, inplace=True)\n",
    "# most_recent_date = fuel_stations['Date Last Confirmed'].max()\n",
    "# fuel_stations['Date Last Confirmed'].fillna(most_recent_date, inplace=True)\n",
    "# fuel_stations['Owner Type Code'].fillna('Unknown', inplace=True)\n",
    "most_common_open_date = fuel_stations['Open Date'].mode()[0]\n",
    "fuel_stations['Open Date'].fillna(most_common_open_date, inplace=True)\n",
    "fuel_stations['Access Detail Code'].fillna('Not specified', inplace=True)\n",
    "fuel_stations['Facility Type'].fillna('Not specified', inplace=True)\n",
    "fuel_stations['EV Pricing'].fillna('Not specified', inplace=True)\n",
    "fuel_stations['EV On-Site Renewable Source'].fillna('Not specified', inplace=True)\n",
    "fuel_stations['Restricted Access'].fillna('Not specified', inplace=True)\n",
    "fuel_stations['NPS Unit Name'].fillna('Not specified', inplace=True)\n",
    "fuel_stations['Maximum Vehicle Class'].fillna('Not specified', inplace=True)\n",
    "print(fuel_stations.isnull().sum())"
   ]
  },
  {
   "cell_type": "code",
   "execution_count": 13,
   "id": "76ab7e2e-1066-47ea-84ab-4872cca34cd5",
   "metadata": {
    "tags": []
   },
   "outputs": [
    {
     "data": {
      "image/png": "[encoded data removed]",
      "text/plain": [
       "<Figure size 720x432 with 1 Axes>"
      ]
     },
     "metadata": {
      "needs_background": "light"
     },
     "output_type": "display_data"
    }
   ],
   "source": [
    "# Distribution of EV DC Fast Count\n",
    "plt.figure(figsize=(10, 6))\n",
    "sns.histplot(data=fuel_stations, x='EV DC Fast Count', bins=20)\n",
    "plt.title(\"Distribution of EV DC Fast Count\")\n",
    "plt.xlabel(\"EV DC Fast Count\")\n",
    "plt.ylabel(\"Frequency\")\n",
    "plt.show()"
   ]
  },
  {
   "cell_type": "code",
   "execution_count": 14,
   "id": "a98d2209-d1cb-4bac-a929-995220771c86",
   "metadata": {
    "tags": []
   },
   "outputs": [
    {
     "data": {
      "image/png": "[encoded data removed]",
      "text/plain": [
       "<Figure size 720x432 with 1 Axes>"
      ]
     },
     "metadata": {
      "needs_background": "light"
     },
     "output_type": "display_data"
    }
   ],
   "source": [
    "# Scatter plot of Latitude vs Longitude\n",
    "plt.figure(figsize=(10, 6))\n",
    "sns.scatterplot(data=fuel_stations, x='Longitude', y='Latitude')\n",
    "plt.title(\"Geographical Distribution of Stations\")\n",
    "plt.xlabel(\"Longitude\")\n",
    "plt.ylabel(\"Latitude\")\n",
    "plt.show()"
   ]
  },
  {
   "cell_type": "code",
   "execution_count": 15,
   "id": "b5c629c1-ed0b-4b5a-81ed-95fb833bfc16",
   "metadata": {
    "tags": []
   },
   "outputs": [
    {
     "data": {
      "image/png": "[encoded data removed]",
      "text/plain": [
       "<Figure size 720x432 with 1 Axes>"
      ]
     },
     "metadata": {
      "needs_background": "light"
     },
     "output_type": "display_data"
    }
   ],
   "source": [
    "# Geographical Distribution of Stations\n",
    "map_stations = folium.Map(location=[fuel_stations['Latitude'].mean(), fuel_stations['Longitude'].mean()], zoom_start=4)\n",
    "for _, station in fuel_stations.iterrows():\n",
    "    folium.Marker([station['Latitude'], station['Longitude']], popup=station['Station Name']).add_to(map_stations)\n",
    "map_stations.save('stations_map.html')\n",
    "\n",
    "# Fuel Type Distribution\n",
    "plt.figure(figsize=(10, 6))\n",
    "sns.countplot(x='Fuel Type Code', data=fuel_stations)\n",
    "plt.title(\"Distribution of Fuel Types\")\n",
    "plt.xlabel(\"Fuel Type\")\n",
    "plt.ylabel(\"Count\")\n",
    "plt.xticks(rotation=45)\n",
    "plt.show()"
   ]
  },
  {
   "cell_type": "code",
   "execution_count": 16,
   "id": "be6c8d22-4d65-4fe5-b6a9-fb6f07084542",
   "metadata": {
    "tags": []
   },
   "outputs": [
    {
     "data": {
      "image/png": "[encoded data removed]",
      "text/plain": [
       "<Figure size 720x432 with 1 Axes>"
      ]
     },
     "metadata": {
      "needs_background": "light"
     },
     "output_type": "display_data"
    }
   ],
   "source": [
    "# Station Status Distribution\n",
    "plt.figure(figsize=(10, 6))\n",
    "sns.countplot(x='Status Code', data=fuel_stations)\n",
    "plt.title(\"Distribution of Station Status\")\n",
    "plt.xlabel(\"Status\")\n",
    "plt.ylabel(\"Count\")\n",
    "plt.show()"
   ]
  },
  {
   "cell_type": "code",
   "execution_count": 17,
   "id": "a89c498b-39a4-49cb-bfb9-5802d246abe3",
   "metadata": {
    "tags": []
   },
   "outputs": [
    {
     "data": {
      "image/png": "[encoded data removed]",
      "text/plain": [
       "<Figure size 720x432 with 1 Axes>"
      ]
     },
     "metadata": {
      "needs_background": "light"
     },
     "output_type": "display_data"
    }
   ],
   "source": [
    "# Charging Infrastructure Analysis\n",
    "plt.figure(figsize=(10, 6))\n",
    "sns.scatterplot(x='EV Level2 EVSE Num', y='EV DC Fast Count', data=fuel_stations)\n",
    "plt.title(\"Charging Infrastructure Analysis\")\n",
    "plt.xlabel(\"EV Level2 EVSE Num\")\n",
    "plt.ylabel(\"EV DC Fast Count\")\n",
    "plt.show()"
   ]
  },
  {
   "cell_type": "markdown",
   "id": "8ec6923a-4344-4f04-8682-e8026d4a189d",
   "metadata": {},
   "source": [
    "### Electric Vehicles Population:"
   ]
  },
  {
   "cell_type": "code",
   "execution_count": 18,
   "id": "707b0986-58dc-42e3-9ec9-848854ca8f68",
   "metadata": {
    "tags": []
   },
   "outputs": [
    {
     "name": "stdout",
     "output_type": "stream",
     "text": [
      "The display for the Electric Vehicles Population Data\n"
     ]
    },
    {
     "data": {
      "text/html": [
       "<div>\n",
       "<style scoped>\n",
       "    .dataframe tbody tr th:only-of-type {\n",
       "        vertical-align: middle;\n",
       "    }\n",
       "\n",
       "    .dataframe tbody tr th {\n",
       "        vertical-align: top;\n",
       "    }\n",
       "\n",
       "    .dataframe thead th {\n",
       "        text-align: right;\n",
       "    }\n",
       "</style>\n",
       "<table border=\"1\" class=\"dataframe\">\n",
       "  <thead>\n",
       "    <tr style=\"text-align: right;\">\n",
       "      <th></th>\n",
       "      <th>VIN (1-10)</th>\n",
       "      <th>County</th>\n",
       "      <th>City</th>\n",
       "      <th>State</th>\n",
       "      <th>Postal Code</th>\n",
       "      <th>Model Year</th>\n",
       "      <th>Make</th>\n",
       "      <th>Model</th>\n",
       "      <th>Electric Vehicle Type</th>\n",
       "      <th>Clean Alternative Fuel Vehicle (CAFV) Eligibility</th>\n",
       "      <th>Electric Range</th>\n",
       "      <th>Base MSRP</th>\n",
       "      <th>Legislative District</th>\n",
       "      <th>DOL Vehicle ID</th>\n",
       "      <th>Vehicle Location</th>\n",
       "      <th>Electric Utility</th>\n",
       "      <th>2020 Census Tract</th>\n",
       "    </tr>\n",
       "  </thead>\n",
       "  <tbody>\n",
       "    <tr>\n",
       "      <th>0</th>\n",
       "      <td>5UXKT0C59G</td>\n",
       "      <td>Yakima</td>\n",
       "      <td>Zillah</td>\n",
       "      <td>WA</td>\n",
       "      <td>98953.0</td>\n",
       "      <td>2016</td>\n",
       "      <td>BMW</td>\n",
       "      <td>X5</td>\n",
       "      <td>Plug-in Hybrid Electric Vehicle (PHEV)</td>\n",
       "      <td>Not eligible due to low battery range</td>\n",
       "      <td>14.0</td>\n",
       "      <td>0.0</td>\n",
       "      <td>15.0</td>\n",
       "      <td>206822717</td>\n",
       "      <td>POINT (-120.26317 46.40556)</td>\n",
       "      <td>PACIFICORP</td>\n",
       "      <td>5.307700e+10</td>\n",
       "    </tr>\n",
       "    <tr>\n",
       "      <th>1</th>\n",
       "      <td>5YJ3E1EA2J</td>\n",
       "      <td>Snohomish</td>\n",
       "      <td>Edmonds</td>\n",
       "      <td>WA</td>\n",
       "      <td>98020.0</td>\n",
       "      <td>2018</td>\n",
       "      <td>TESLA</td>\n",
       "      <td>MODEL 3</td>\n",
       "      <td>Battery Electric Vehicle (BEV)</td>\n",
       "      <td>Clean Alternative Fuel Vehicle Eligible</td>\n",
       "      <td>215.0</td>\n",
       "      <td>0.0</td>\n",
       "      <td>21.0</td>\n",
       "      <td>137721636</td>\n",
       "      <td>POINT (-122.37507 47.80807)</td>\n",
       "      <td>PUGET SOUND ENERGY INC</td>\n",
       "      <td>5.306105e+10</td>\n",
       "    </tr>\n",
       "    <tr>\n",
       "      <th>2</th>\n",
       "      <td>1G1RE6E4XE</td>\n",
       "      <td>Kitsap</td>\n",
       "      <td>Port Orchard</td>\n",
       "      <td>WA</td>\n",
       "      <td>98367.0</td>\n",
       "      <td>2014</td>\n",
       "      <td>CHEVROLET</td>\n",
       "      <td>VOLT</td>\n",
       "      <td>Plug-in Hybrid Electric Vehicle (PHEV)</td>\n",
       "      <td>Clean Alternative Fuel Vehicle Eligible</td>\n",
       "      <td>38.0</td>\n",
       "      <td>0.0</td>\n",
       "      <td>26.0</td>\n",
       "      <td>197718468</td>\n",
       "      <td>POINT (-122.6847073 47.50524)</td>\n",
       "      <td>PUGET SOUND ENERGY INC</td>\n",
       "      <td>5.303509e+10</td>\n",
       "    </tr>\n",
       "  </tbody>\n",
       "</table>\n",
       "</div>"
      ],
      "text/plain": [
       "   VIN (1-10)     County          City State  Postal Code  Model Year  \\\n",
       "0  5UXKT0C59G     Yakima        Zillah    WA      98953.0        2016   \n",
       "1  5YJ3E1EA2J  Snohomish       Edmonds    WA      98020.0        2018   \n",
       "2  1G1RE6E4XE     Kitsap  Port Orchard    WA      98367.0        2014   \n",
       "\n",
       "        Make    Model                   Electric Vehicle Type  \\\n",
       "0        BMW       X5  Plug-in Hybrid Electric Vehicle (PHEV)   \n",
       "1      TESLA  MODEL 3          Battery Electric Vehicle (BEV)   \n",
       "2  CHEVROLET     VOLT  Plug-in Hybrid Electric Vehicle (PHEV)   \n",
       "\n",
       "  Clean Alternative Fuel Vehicle (CAFV) Eligibility  Electric Range  \\\n",
       "0             Not eligible due to low battery range            14.0   \n",
       "1           Clean Alternative Fuel Vehicle Eligible           215.0   \n",
       "2           Clean Alternative Fuel Vehicle Eligible            38.0   \n",
       "\n",
       "   Base MSRP  Legislative District  DOL Vehicle ID  \\\n",
       "0        0.0                  15.0       206822717   \n",
       "1        0.0                  21.0       137721636   \n",
       "2        0.0                  26.0       197718468   \n",
       "\n",
       "                Vehicle Location        Electric Utility  2020 Census Tract  \n",
       "0    POINT (-120.26317 46.40556)              PACIFICORP       5.307700e+10  \n",
       "1    POINT (-122.37507 47.80807)  PUGET SOUND ENERGY INC       5.306105e+10  \n",
       "2  POINT (-122.6847073 47.50524)  PUGET SOUND ENERGY INC       5.303509e+10  "
      ]
     },
     "execution_count": 18,
     "metadata": {},
     "output_type": "execute_result"
    }
   ],
   "source": [
    "print(\"The display for the Electric Vehicles Population Data\")\n",
    "ev_population.head(3)"
   ]
  },
  {
   "cell_type": "code",
   "execution_count": 19,
   "id": "d3b0936a-eaf7-4271-af33-5be545b22a3f",
   "metadata": {
    "tags": []
   },
   "outputs": [
    {
     "name": "stdout",
     "output_type": "stream",
     "text": [
      "Data Information:\n",
      "<class 'pandas.core.frame.DataFrame'>\n",
      "RangeIndex: 173533 entries, 0 to 173532\n",
      "Data columns (total 17 columns):\n",
      " #   Column                                             Non-Null Count   Dtype  \n",
      "---  ------                                             --------------   -----  \n",
      " 0   VIN (1-10)                                         173533 non-null  object \n",
      " 1   County                                             173528 non-null  object \n",
      " 2   City                                               173528 non-null  object \n",
      " 3   State                                              173533 non-null  object \n",
      " 4   Postal Code                                        173528 non-null  float64\n",
      " 5   Model Year                                         173533 non-null  int64  \n",
      " 6   Make                                               173533 non-null  object \n",
      " 7   Model                                              173533 non-null  object \n",
      " 8   Electric Vehicle Type                              173533 non-null  object \n",
      " 9   Clean Alternative Fuel Vehicle (CAFV) Eligibility  173533 non-null  object \n",
      " 10  Electric Range                                     173532 non-null  float64\n",
      " 11  Base MSRP                                          173532 non-null  float64\n",
      " 12  Legislative District                               173157 non-null  float64\n",
      " 13  DOL Vehicle ID                                     173533 non-null  int64  \n",
      " 14  Vehicle Location                                   173523 non-null  object \n",
      " 15  Electric Utility                                   173528 non-null  object \n",
      " 16  2020 Census Tract                                  173528 non-null  float64\n",
      "dtypes: float64(5), int64(2), object(10)\n",
      "memory usage: 22.5+ MB\n",
      "\n",
      "Summary Statistics for EV Population data:\n"
     ]
    },
    {
     "data": {
      "text/html": [
       "<div>\n",
       "<style scoped>\n",
       "    .dataframe tbody tr th:only-of-type {\n",
       "        vertical-align: middle;\n",
       "    }\n",
       "\n",
       "    .dataframe tbody tr th {\n",
       "        vertical-align: top;\n",
       "    }\n",
       "\n",
       "    .dataframe thead th {\n",
       "        text-align: right;\n",
       "    }\n",
       "</style>\n",
       "<table border=\"1\" class=\"dataframe\">\n",
       "  <thead>\n",
       "    <tr style=\"text-align: right;\">\n",
       "      <th></th>\n",
       "      <th>Postal Code</th>\n",
       "      <th>Model Year</th>\n",
       "      <th>Electric Range</th>\n",
       "      <th>Base MSRP</th>\n",
       "      <th>Legislative District</th>\n",
       "      <th>DOL Vehicle ID</th>\n",
       "      <th>2020 Census Tract</th>\n",
       "    </tr>\n",
       "  </thead>\n",
       "  <tbody>\n",
       "    <tr>\n",
       "      <th>count</th>\n",
       "      <td>173528.000000</td>\n",
       "      <td>173533.000000</td>\n",
       "      <td>173532.000000</td>\n",
       "      <td>173532.000000</td>\n",
       "      <td>173157.000000</td>\n",
       "      <td>1.735330e+05</td>\n",
       "      <td>1.735280e+05</td>\n",
       "    </tr>\n",
       "    <tr>\n",
       "      <th>mean</th>\n",
       "      <td>98174.746099</td>\n",
       "      <td>2020.435352</td>\n",
       "      <td>60.148002</td>\n",
       "      <td>1113.254472</td>\n",
       "      <td>29.146670</td>\n",
       "      <td>2.188134e+08</td>\n",
       "      <td>5.297739e+10</td>\n",
       "    </tr>\n",
       "    <tr>\n",
       "      <th>std</th>\n",
       "      <td>2411.109685</td>\n",
       "      <td>2.994442</td>\n",
       "      <td>92.644038</td>\n",
       "      <td>8513.543524</td>\n",
       "      <td>14.871778</td>\n",
       "      <td>7.658800e+07</td>\n",
       "      <td>1.567028e+09</td>\n",
       "    </tr>\n",
       "    <tr>\n",
       "      <th>min</th>\n",
       "      <td>1545.000000</td>\n",
       "      <td>1997.000000</td>\n",
       "      <td>0.000000</td>\n",
       "      <td>0.000000</td>\n",
       "      <td>1.000000</td>\n",
       "      <td>4.385000e+03</td>\n",
       "      <td>1.001020e+09</td>\n",
       "    </tr>\n",
       "    <tr>\n",
       "      <th>25%</th>\n",
       "      <td>98052.000000</td>\n",
       "      <td>2018.000000</td>\n",
       "      <td>0.000000</td>\n",
       "      <td>0.000000</td>\n",
       "      <td>18.000000</td>\n",
       "      <td>1.801662e+08</td>\n",
       "      <td>5.303301e+10</td>\n",
       "    </tr>\n",
       "    <tr>\n",
       "      <th>50%</th>\n",
       "      <td>98122.000000</td>\n",
       "      <td>2022.000000</td>\n",
       "      <td>0.000000</td>\n",
       "      <td>0.000000</td>\n",
       "      <td>33.000000</td>\n",
       "      <td>2.271021e+08</td>\n",
       "      <td>5.303303e+10</td>\n",
       "    </tr>\n",
       "    <tr>\n",
       "      <th>75%</th>\n",
       "      <td>98370.000000</td>\n",
       "      <td>2023.000000</td>\n",
       "      <td>83.000000</td>\n",
       "      <td>0.000000</td>\n",
       "      <td>42.000000</td>\n",
       "      <td>2.530049e+08</td>\n",
       "      <td>5.305307e+10</td>\n",
       "    </tr>\n",
       "    <tr>\n",
       "      <th>max</th>\n",
       "      <td>99577.000000</td>\n",
       "      <td>2024.000000</td>\n",
       "      <td>337.000000</td>\n",
       "      <td>845000.000000</td>\n",
       "      <td>49.000000</td>\n",
       "      <td>4.792548e+08</td>\n",
       "      <td>5.603300e+10</td>\n",
       "    </tr>\n",
       "  </tbody>\n",
       "</table>\n",
       "</div>"
      ],
      "text/plain": [
       "         Postal Code     Model Year  Electric Range      Base MSRP  \\\n",
       "count  173528.000000  173533.000000   173532.000000  173532.000000   \n",
       "mean    98174.746099    2020.435352       60.148002    1113.254472   \n",
       "std      2411.109685       2.994442       92.644038    8513.543524   \n",
       "min      1545.000000    1997.000000        0.000000       0.000000   \n",
       "25%     98052.000000    2018.000000        0.000000       0.000000   \n",
       "50%     98122.000000    2022.000000        0.000000       0.000000   \n",
       "75%     98370.000000    2023.000000       83.000000       0.000000   \n",
       "max     99577.000000    2024.000000      337.000000  845000.000000   \n",
       "\n",
       "       Legislative District  DOL Vehicle ID  2020 Census Tract  \n",
       "count         173157.000000    1.735330e+05       1.735280e+05  \n",
       "mean              29.146670    2.188134e+08       5.297739e+10  \n",
       "std               14.871778    7.658800e+07       1.567028e+09  \n",
       "min                1.000000    4.385000e+03       1.001020e+09  \n",
       "25%               18.000000    1.801662e+08       5.303301e+10  \n",
       "50%               33.000000    2.271021e+08       5.303303e+10  \n",
       "75%               42.000000    2.530049e+08       5.305307e+10  \n",
       "max               49.000000    4.792548e+08       5.603300e+10  "
      ]
     },
     "execution_count": 19,
     "metadata": {},
     "output_type": "execute_result"
    }
   ],
   "source": [
    "# 1. Data Info\n",
    "print(\"Data Information:\")\n",
    "ev_population.info()\n",
    "\n",
    "# 2. Summary Statistics\n",
    "print(\"\\nSummary Statistics for EV Population data:\")\n",
    "ev_population.describe()"
   ]
  },
  {
   "cell_type": "markdown",
   "id": "be646eb4-9998-4372-9303-00f4d3658b97",
   "metadata": {},
   "source": [
    "## Data cleaning"
   ]
  },
  {
   "cell_type": "code",
   "execution_count": 20,
   "id": "cf87f7df-328d-4b95-9a75-99056bec5d6c",
   "metadata": {
    "tags": []
   },
   "outputs": [
    {
     "name": "stdout",
     "output_type": "stream",
     "text": [
      "<class 'pandas.core.frame.DataFrame'>\n",
      "RangeIndex: 173151 entries, 0 to 173150\n",
      "Data columns (total 17 columns):\n",
      " #   Column                                             Non-Null Count   Dtype  \n",
      "---  ------                                             --------------   -----  \n",
      " 0   VIN (1-10)                                         173151 non-null  object \n",
      " 1   County                                             173151 non-null  object \n",
      " 2   City                                               173151 non-null  object \n",
      " 3   State                                              173151 non-null  object \n",
      " 4   Postal Code                                        173151 non-null  int64  \n",
      " 5   Model Year                                         173151 non-null  int64  \n",
      " 6   Make                                               173151 non-null  object \n",
      " 7   Model                                              173151 non-null  object \n",
      " 8   Electric Vehicle Type                              173151 non-null  object \n",
      " 9   Clean Alternative Fuel Vehicle (CAFV) Eligibility  173151 non-null  object \n",
      " 10  Electric Range                                     173151 non-null  float64\n",
      " 11  Base MSRP                                          173151 non-null  float64\n",
      " 12  Legislative District                               173151 non-null  int64  \n",
      " 13  DOL Vehicle ID                                     173151 non-null  int64  \n",
      " 14  Vehicle Location                                   173151 non-null  object \n",
      " 15  Electric Utility                                   173151 non-null  object \n",
      " 16  2020 Census Tract                                  173151 non-null  float64\n",
      "dtypes: float64(3), int64(4), object(10)\n",
      "memory usage: 22.5+ MB\n",
      "None\n"
     ]
    }
   ],
   "source": [
    "# Drop rows with missing values\n",
    "ev_population = ev_population.dropna()\n",
    "\n",
    "# Convert 'Postal Code' and 'Legislative District' to integer type\n",
    "ev_population['Postal Code'] = ev_population['Postal Code'].astype(int)\n",
    "ev_population['Legislative District'] = ev_population['Legislative District'].astype(int)\n",
    "\n",
    "# Remove leading/trailing whitespaces and convert text columns to lowercase\n",
    "ev_population['County'] = ev_population['County'].str.strip().str.lower()\n",
    "ev_population['City'] = ev_population['City'].str.strip().str.lower()\n",
    "ev_population['State'] = ev_population['State'].str.strip().str.lower()\n",
    "ev_population['Make'] = ev_population['Make'].str.strip().str.lower()\n",
    "ev_population['Model'] = ev_population['Model'].str.strip().str.lower()\n",
    "ev_population['Electric Vehicle Type'] = ev_population['Electric Vehicle Type'].str.strip().str.lower()\n",
    "ev_population['Clean Alternative Fuel Vehicle (CAFV) Eligibility'] = ev_population['Clean Alternative Fuel Vehicle (CAFV) Eligibility'].str.strip().str.lower()\n",
    "ev_population['Vehicle Location'] = ev_population['Vehicle Location'].str.strip().str.lower()\n",
    "ev_population['Electric Utility'] = ev_population['Electric Utility'].str.strip().str.lower()\n",
    "\n",
    "# Check for duplicate rows and drop them if necessary\n",
    "ev_population = ev_population.drop_duplicates()\n",
    "\n",
    "# Reset index after dropping rows\n",
    "ev_population.reset_index(drop=True, inplace=True)\n",
    "\n",
    "# Check the cleaned DataFrame\n",
    "print(ev_population.info())"
   ]
  },
  {
   "cell_type": "code",
   "execution_count": 21,
   "id": "188d8561-5a79-41eb-b74a-ab384098c5be",
   "metadata": {
    "tags": []
   },
   "outputs": [
    {
     "data": {
      "text/plain": [
       "VIN (1-10)                                           0\n",
       "County                                               0\n",
       "City                                                 0\n",
       "State                                                0\n",
       "Postal Code                                          0\n",
       "Model Year                                           0\n",
       "Make                                                 0\n",
       "Model                                                0\n",
       "Electric Vehicle Type                                0\n",
       "Clean Alternative Fuel Vehicle (CAFV) Eligibility    0\n",
       "Electric Range                                       0\n",
       "Base MSRP                                            0\n",
       "Legislative District                                 0\n",
       "DOL Vehicle ID                                       0\n",
       "Vehicle Location                                     0\n",
       "Electric Utility                                     0\n",
       "2020 Census Tract                                    0\n",
       "dtype: int64"
      ]
     },
     "execution_count": 21,
     "metadata": {},
     "output_type": "execute_result"
    }
   ],
   "source": [
    "# Check for missing data\n",
    "ev_population.isnull().sum()"
   ]
  },
  {
   "cell_type": "code",
   "execution_count": 22,
   "id": "bbc799a9-5230-41fe-a54e-58dac0a4333b",
   "metadata": {
    "tags": []
   },
   "outputs": [
    {
     "name": "stdout",
     "output_type": "stream",
     "text": [
      "\n",
      " Summary Statistics for Electric Vehicles Population data\n",
      "         Postal Code     Model Year  Electric Range      Base MSRP  \\\n",
      "count  173151.000000  173151.000000   173151.000000  173151.000000   \n",
      "mean    98260.570750    2020.436989       60.135304    1110.335747   \n",
      "std       303.926758       2.994179       92.640670    8501.184324   \n",
      "min     98001.000000    1997.000000        0.000000       0.000000   \n",
      "25%     98052.000000    2018.000000        0.000000       0.000000   \n",
      "50%     98122.000000    2022.000000        0.000000       0.000000   \n",
      "75%     98370.000000    2023.000000       83.000000       0.000000   \n",
      "max     99403.000000    2024.000000      337.000000  845000.000000   \n",
      "\n",
      "       Legislative District  DOL Vehicle ID  2020 Census Tract  \n",
      "count         173151.000000    1.731510e+05       1.731510e+05  \n",
      "mean              29.146987    2.188368e+08       5.303982e+10  \n",
      "std               14.871933    7.658982e+07       1.620477e+07  \n",
      "min                1.000000    4.385000e+03       5.300195e+10  \n",
      "25%               18.000000    1.802026e+08       5.303301e+10  \n",
      "50%               33.000000    2.271138e+08       5.303303e+10  \n",
      "75%               42.000000    2.530245e+08       5.305307e+10  \n",
      "max               49.000000    4.792548e+08       5.307794e+10  \n"
     ]
    }
   ],
   "source": [
    "# Summary Statistics\n",
    "print(\"\\n Summary Statistics for Electric Vehicles Population data\")\n",
    "print(ev_population.describe())"
   ]
  },
  {
   "cell_type": "code",
   "execution_count": 23,
   "id": "f2870c07-1415-486b-bc43-507d314730ac",
   "metadata": {
    "tags": []
   },
   "outputs": [
    {
     "data": {
      "image/png": "[encoded data removed]",
      "text/plain": [
       "<Figure size 720x432 with 1 Axes>"
      ]
     },
     "metadata": {
      "needs_background": "light"
     },
     "output_type": "display_data"
    }
   ],
   "source": [
    "# Distribution of Model Year\n",
    "plt.figure(figsize=(10, 6))\n",
    "sns.histplot(ev_population['Model Year'], bins=20, kde=True)\n",
    "plt.title(\"Distribution of Model Year\")\n",
    "plt.xlabel(\"Model Year\")\n",
    "plt.ylabel(\"Frequency\")\n",
    "plt.show()"
   ]
  },
  {
   "cell_type": "code",
   "execution_count": 24,
   "id": "faff5a80-e1a7-4ed6-81d7-2ae9ef221495",
   "metadata": {
    "tags": []
   },
   "outputs": [
    {
     "data": {
      "image/png": "[encoded data removed]",
      "text/plain": [
       "<Figure size 720x432 with 1 Axes>"
      ]
     },
     "metadata": {
      "needs_background": "light"
     },
     "output_type": "display_data"
    }
   ],
   "source": [
    "# Distribution of Electric Range\n",
    "plt.figure(figsize=(10, 6))\n",
    "sns.histplot(ev_population['Electric Range'], bins=20, kde=True)\n",
    "plt.title(\"Distribution of Electric Range\")\n",
    "plt.xlabel(\"Electric Range\")\n",
    "plt.ylabel(\"Frequency\")\n",
    "plt.show()"
   ]
  },
  {
   "cell_type": "code",
   "execution_count": 25,
   "id": "06011a96-8357-43e8-a668-ed9891e6d231",
   "metadata": {
    "tags": []
   },
   "outputs": [
    {
     "data": {
      "image/png": "[encoded data removed]",
      "text/plain": [
       "<Figure size 720x432 with 1 Axes>"
      ]
     },
     "metadata": {
      "needs_background": "light"
     },
     "output_type": "display_data"
    }
   ],
   "source": [
    "# Distribution of Electric Vehicle Types\n",
    "plt.figure(figsize=(10, 6))\n",
    "sns.countplot(x='Electric Vehicle Type', data=ev_population)\n",
    "plt.title(\"Distribution of Electric Vehicle Types\")\n",
    "plt.xlabel(\"Electric Vehicle Type\")\n",
    "plt.ylabel(\"Count\")\n",
    "plt.xticks(rotation=45)\n",
    "plt.show()"
   ]
  },
  {
   "cell_type": "code",
   "execution_count": 26,
   "id": "c168d61d-f450-4fbd-9268-39a5d7635b21",
   "metadata": {
    "tags": []
   },
   "outputs": [
    {
     "data": {
      "image/png": "[encoded data removed]",
      "text/plain": [
       "<Figure size 864x576 with 1 Axes>"
      ]
     },
     "metadata": {
      "needs_background": "light"
     },
     "output_type": "display_data"
    }
   ],
   "source": [
    "# Relationship between Make and Electric Range\n",
    "plt.figure(figsize=(12, 8))\n",
    "sns.boxplot(x='Make', y='Electric Range', data=ev_population)\n",
    "plt.title(\"Relationship between Make and Electric Range\")\n",
    "plt.xlabel(\"Make\")\n",
    "plt.ylabel(\"Electric Range\")\n",
    "plt.xticks(rotation=90)\n",
    "plt.show()"
   ]
  },
  {
   "cell_type": "markdown",
   "id": "28ea6530-2a1a-4150-b572-2bdfa0a05bd8",
   "metadata": {},
   "source": [
    "### Electric Vehicles Registration:"
   ]
  },
  {
   "cell_type": "code",
   "execution_count": 27,
   "id": "017fa08a-ed37-47c6-ac13-651d8a4e9a1d",
   "metadata": {
    "tags": []
   },
   "outputs": [
    {
     "name": "stdout",
     "output_type": "stream",
     "text": [
      "The display for the Electric Vehicles Registration Data\n"
     ]
    },
    {
     "data": {
      "text/html": [
       "<div>\n",
       "<style scoped>\n",
       "    .dataframe tbody tr th:only-of-type {\n",
       "        vertical-align: middle;\n",
       "    }\n",
       "\n",
       "    .dataframe tbody tr th {\n",
       "        vertical-align: top;\n",
       "    }\n",
       "\n",
       "    .dataframe thead th {\n",
       "        text-align: right;\n",
       "    }\n",
       "</style>\n",
       "<table border=\"1\" class=\"dataframe\">\n",
       "  <thead>\n",
       "    <tr style=\"text-align: right;\">\n",
       "      <th></th>\n",
       "      <th>Clean Alternative Fuel Vehicle Type</th>\n",
       "      <th>VIN (1-10)</th>\n",
       "      <th>DOL Vehicle ID</th>\n",
       "      <th>Model Year</th>\n",
       "      <th>Make</th>\n",
       "      <th>Model</th>\n",
       "      <th>Vehicle Primary Use</th>\n",
       "      <th>Electric Range</th>\n",
       "      <th>Odometer Reading</th>\n",
       "      <th>Odometer Code</th>\n",
       "      <th>...</th>\n",
       "      <th>State of Residence</th>\n",
       "      <th>Postal Code</th>\n",
       "      <th>Meets 2019 HB 2042 Sale Price/Value Requirement</th>\n",
       "      <th>2019 HB 2042: Sale Price/Value Requirement</th>\n",
       "      <th>Electric Vehicle Fee Paid</th>\n",
       "      <th>Transportation Electrification Fee Paid</th>\n",
       "      <th>Hybrid Vehicle Electrification Fee Paid</th>\n",
       "      <th>2020 Census Tract</th>\n",
       "      <th>Legislative District</th>\n",
       "      <th>Electric Utility</th>\n",
       "    </tr>\n",
       "  </thead>\n",
       "  <tbody>\n",
       "    <tr>\n",
       "      <th>0</th>\n",
       "      <td>Battery Electric Vehicle (BEV)</td>\n",
       "      <td>5YJ3E1EA7J</td>\n",
       "      <td>231013436</td>\n",
       "      <td>2018</td>\n",
       "      <td>TESLA</td>\n",
       "      <td>Model 3</td>\n",
       "      <td>Passenger</td>\n",
       "      <td>215.0</td>\n",
       "      <td>0</td>\n",
       "      <td>Odometer reading is not collected at time of r...</td>\n",
       "      <td>...</td>\n",
       "      <td>WA</td>\n",
       "      <td>98033.0</td>\n",
       "      <td>False</td>\n",
       "      <td>This transaction type is not eligible for the ...</td>\n",
       "      <td>Yes</td>\n",
       "      <td>Yes</td>\n",
       "      <td>No</td>\n",
       "      <td>5.303302e+10</td>\n",
       "      <td>48.0</td>\n",
       "      <td>PUGET SOUND ENERGY INC||CITY OF TACOMA - (WA)</td>\n",
       "    </tr>\n",
       "    <tr>\n",
       "      <th>1</th>\n",
       "      <td>Battery Electric Vehicle (BEV)</td>\n",
       "      <td>5YJXCDE23H</td>\n",
       "      <td>149021127</td>\n",
       "      <td>2017</td>\n",
       "      <td>TESLA</td>\n",
       "      <td>Model X</td>\n",
       "      <td>Passenger</td>\n",
       "      <td>200.0</td>\n",
       "      <td>0</td>\n",
       "      <td>Odometer reading is not collected at time of r...</td>\n",
       "      <td>...</td>\n",
       "      <td>WA</td>\n",
       "      <td>98033.0</td>\n",
       "      <td>False</td>\n",
       "      <td>This transaction type is not eligible for the ...</td>\n",
       "      <td>Yes</td>\n",
       "      <td>Yes</td>\n",
       "      <td>No</td>\n",
       "      <td>5.303302e+10</td>\n",
       "      <td>48.0</td>\n",
       "      <td>PUGET SOUND ENERGY INC||CITY OF TACOMA - (WA)</td>\n",
       "    </tr>\n",
       "    <tr>\n",
       "      <th>2</th>\n",
       "      <td>Battery Electric Vehicle (BEV)</td>\n",
       "      <td>1N4BZ0CP5H</td>\n",
       "      <td>325665931</td>\n",
       "      <td>2017</td>\n",
       "      <td>NISSAN</td>\n",
       "      <td>Leaf</td>\n",
       "      <td>Passenger</td>\n",
       "      <td>107.0</td>\n",
       "      <td>0</td>\n",
       "      <td>Odometer reading is not collected at time of r...</td>\n",
       "      <td>...</td>\n",
       "      <td>WA</td>\n",
       "      <td>98033.0</td>\n",
       "      <td>False</td>\n",
       "      <td>This transaction type is not eligible for the ...</td>\n",
       "      <td>Yes</td>\n",
       "      <td>No</td>\n",
       "      <td>No</td>\n",
       "      <td>5.303302e+10</td>\n",
       "      <td>48.0</td>\n",
       "      <td>PUGET SOUND ENERGY INC||CITY OF TACOMA - (WA)</td>\n",
       "    </tr>\n",
       "  </tbody>\n",
       "</table>\n",
       "<p>3 rows × 29 columns</p>\n",
       "</div>"
      ],
      "text/plain": [
       "  Clean Alternative Fuel Vehicle Type  VIN (1-10)  DOL Vehicle ID  Model Year  \\\n",
       "0      Battery Electric Vehicle (BEV)  5YJ3E1EA7J       231013436        2018   \n",
       "1      Battery Electric Vehicle (BEV)  5YJXCDE23H       149021127        2017   \n",
       "2      Battery Electric Vehicle (BEV)  1N4BZ0CP5H       325665931        2017   \n",
       "\n",
       "     Make    Model Vehicle Primary Use  Electric Range  Odometer Reading  \\\n",
       "0   TESLA  Model 3           Passenger           215.0                 0   \n",
       "1   TESLA  Model X           Passenger           200.0                 0   \n",
       "2  NISSAN     Leaf           Passenger           107.0                 0   \n",
       "\n",
       "                                       Odometer Code  ... State of Residence  \\\n",
       "0  Odometer reading is not collected at time of r...  ...                 WA   \n",
       "1  Odometer reading is not collected at time of r...  ...                 WA   \n",
       "2  Odometer reading is not collected at time of r...  ...                 WA   \n",
       "\n",
       "   Postal Code Meets 2019 HB 2042 Sale Price/Value Requirement  \\\n",
       "0      98033.0                                           False   \n",
       "1      98033.0                                           False   \n",
       "2      98033.0                                           False   \n",
       "\n",
       "          2019 HB 2042: Sale Price/Value Requirement  \\\n",
       "0  This transaction type is not eligible for the ...   \n",
       "1  This transaction type is not eligible for the ...   \n",
       "2  This transaction type is not eligible for the ...   \n",
       "\n",
       "  Electric Vehicle Fee Paid Transportation Electrification Fee Paid  \\\n",
       "0                       Yes                                     Yes   \n",
       "1                       Yes                                     Yes   \n",
       "2                       Yes                                      No   \n",
       "\n",
       "   Hybrid Vehicle Electrification Fee Paid 2020 Census Tract  \\\n",
       "0                                       No      5.303302e+10   \n",
       "1                                       No      5.303302e+10   \n",
       "2                                       No      5.303302e+10   \n",
       "\n",
       "  Legislative District                               Electric Utility  \n",
       "0                 48.0  PUGET SOUND ENERGY INC||CITY OF TACOMA - (WA)  \n",
       "1                 48.0  PUGET SOUND ENERGY INC||CITY OF TACOMA - (WA)  \n",
       "2                 48.0  PUGET SOUND ENERGY INC||CITY OF TACOMA - (WA)  \n",
       "\n",
       "[3 rows x 29 columns]"
      ]
     },
     "execution_count": 27,
     "metadata": {},
     "output_type": "execute_result"
    }
   ],
   "source": [
    "print(\"The display for the Electric Vehicles Registration Data\")\n",
    "ev_registration.head(3)"
   ]
  },
  {
   "cell_type": "code",
   "execution_count": 28,
   "id": "ac0e6986-7c6e-4b0c-aef9-a9a62d5fcb0d",
   "metadata": {
    "tags": []
   },
   "outputs": [
    {
     "name": "stdout",
     "output_type": "stream",
     "text": [
      " Data Information\n",
      "<class 'pandas.core.frame.DataFrame'>\n",
      "RangeIndex: 924803 entries, 0 to 924802\n",
      "Data columns (total 29 columns):\n",
      " #   Column                                           Non-Null Count   Dtype  \n",
      "---  ------                                           --------------   -----  \n",
      " 0   Clean Alternative Fuel Vehicle Type              924803 non-null  object \n",
      " 1   VIN (1-10)                                       924803 non-null  object \n",
      " 2   DOL Vehicle ID                                   924803 non-null  int64  \n",
      " 3   Model Year                                       924803 non-null  int64  \n",
      " 4   Make                                             924803 non-null  object \n",
      " 5   Model                                            924803 non-null  object \n",
      " 6   Vehicle Primary Use                              924803 non-null  object \n",
      " 7   Electric Range                                   924801 non-null  float64\n",
      " 8   Odometer Reading                                 924803 non-null  int64  \n",
      " 9   Odometer Code                                    924803 non-null  object \n",
      " 10  New or Used Vehicle                              924803 non-null  object \n",
      " 11  Sale Price                                       924803 non-null  int64  \n",
      " 12  Sale Date                                        274289 non-null  object \n",
      " 13  Base MSRP                                        924801 non-null  float64\n",
      " 14  Transaction Type                                 924803 non-null  object \n",
      " 15  DOL Transaction Date                             924803 non-null  object \n",
      " 16  Transaction Year                                 924803 non-null  int64  \n",
      " 17  County                                           924754 non-null  object \n",
      " 18  City                                             924715 non-null  object \n",
      " 19  State of Residence                               924802 non-null  object \n",
      " 20  Postal Code                                      924741 non-null  float64\n",
      " 21  Meets 2019 HB 2042 Sale Price/Value Requirement  924803 non-null  bool   \n",
      " 22  2019 HB 2042: Sale Price/Value Requirement       924803 non-null  object \n",
      " 23  Electric Vehicle Fee Paid                        924803 non-null  object \n",
      " 24  Transportation Electrification Fee Paid          833772 non-null  object \n",
      " 25  Hybrid Vehicle Electrification Fee Paid          833772 non-null  object \n",
      " 26  2020 Census Tract                                924754 non-null  float64\n",
      " 27  Legislative District                             921613 non-null  float64\n",
      " 28  Electric Utility                                 924754 non-null  object \n",
      "dtypes: bool(1), float64(5), int64(5), object(18)\n",
      "memory usage: 198.4+ MB\n",
      "\n",
      " Summary Statistics for Electric Vehicles Registration data\n"
     ]
    },
    {
     "data": {
      "text/html": [
       "<div>\n",
       "<style scoped>\n",
       "    .dataframe tbody tr th:only-of-type {\n",
       "        vertical-align: middle;\n",
       "    }\n",
       "\n",
       "    .dataframe tbody tr th {\n",
       "        vertical-align: top;\n",
       "    }\n",
       "\n",
       "    .dataframe thead th {\n",
       "        text-align: right;\n",
       "    }\n",
       "</style>\n",
       "<table border=\"1\" class=\"dataframe\">\n",
       "  <thead>\n",
       "    <tr style=\"text-align: right;\">\n",
       "      <th></th>\n",
       "      <th>DOL Vehicle ID</th>\n",
       "      <th>Model Year</th>\n",
       "      <th>Electric Range</th>\n",
       "      <th>Odometer Reading</th>\n",
       "      <th>Sale Price</th>\n",
       "      <th>Base MSRP</th>\n",
       "      <th>Transaction Year</th>\n",
       "      <th>Postal Code</th>\n",
       "      <th>2020 Census Tract</th>\n",
       "      <th>Legislative District</th>\n",
       "    </tr>\n",
       "  </thead>\n",
       "  <tbody>\n",
       "    <tr>\n",
       "      <th>count</th>\n",
       "      <td>9.248030e+05</td>\n",
       "      <td>924803.000000</td>\n",
       "      <td>924801.000000</td>\n",
       "      <td>924803.000000</td>\n",
       "      <td>9.248030e+05</td>\n",
       "      <td>924801.000000</td>\n",
       "      <td>924803.000000</td>\n",
       "      <td>924741.000000</td>\n",
       "      <td>9.247540e+05</td>\n",
       "      <td>921613.000000</td>\n",
       "    </tr>\n",
       "    <tr>\n",
       "      <th>mean</th>\n",
       "      <td>2.087825e+08</td>\n",
       "      <td>2018.323074</td>\n",
       "      <td>87.554102</td>\n",
       "      <td>2867.602018</td>\n",
       "      <td>1.138436e+04</td>\n",
       "      <td>2621.287726</td>\n",
       "      <td>2020.506160</td>\n",
       "      <td>98126.927385</td>\n",
       "      <td>5.294411e+10</td>\n",
       "      <td>29.877476</td>\n",
       "    </tr>\n",
       "    <tr>\n",
       "      <th>std</th>\n",
       "      <td>9.524541e+07</td>\n",
       "      <td>3.521393</td>\n",
       "      <td>95.520694</td>\n",
       "      <td>11974.663842</td>\n",
       "      <td>3.224411e+04</td>\n",
       "      <td>13156.193703</td>\n",
       "      <td>2.709137</td>\n",
       "      <td>2859.645490</td>\n",
       "      <td>1.924420e+09</td>\n",
       "      <td>14.781102</td>\n",
       "    </tr>\n",
       "    <tr>\n",
       "      <th>min</th>\n",
       "      <td>4.000000e+00</td>\n",
       "      <td>1993.000000</td>\n",
       "      <td>0.000000</td>\n",
       "      <td>0.000000</td>\n",
       "      <td>0.000000e+00</td>\n",
       "      <td>0.000000</td>\n",
       "      <td>2010.000000</td>\n",
       "      <td>745.000000</td>\n",
       "      <td>1.001020e+09</td>\n",
       "      <td>1.000000</td>\n",
       "    </tr>\n",
       "    <tr>\n",
       "      <th>25%</th>\n",
       "      <td>1.489764e+08</td>\n",
       "      <td>2016.000000</td>\n",
       "      <td>0.000000</td>\n",
       "      <td>0.000000</td>\n",
       "      <td>0.000000e+00</td>\n",
       "      <td>0.000000</td>\n",
       "      <td>2019.000000</td>\n",
       "      <td>98052.000000</td>\n",
       "      <td>5.303301e+10</td>\n",
       "      <td>18.000000</td>\n",
       "    </tr>\n",
       "    <tr>\n",
       "      <th>50%</th>\n",
       "      <td>2.039975e+08</td>\n",
       "      <td>2018.000000</td>\n",
       "      <td>47.000000</td>\n",
       "      <td>0.000000</td>\n",
       "      <td>0.000000e+00</td>\n",
       "      <td>0.000000</td>\n",
       "      <td>2021.000000</td>\n",
       "      <td>98118.000000</td>\n",
       "      <td>5.303303e+10</td>\n",
       "      <td>34.000000</td>\n",
       "    </tr>\n",
       "    <tr>\n",
       "      <th>75%</th>\n",
       "      <td>2.499224e+08</td>\n",
       "      <td>2022.000000</td>\n",
       "      <td>200.000000</td>\n",
       "      <td>15.000000</td>\n",
       "      <td>0.000000e+00</td>\n",
       "      <td>0.000000</td>\n",
       "      <td>2023.000000</td>\n",
       "      <td>98366.000000</td>\n",
       "      <td>5.305307e+10</td>\n",
       "      <td>43.000000</td>\n",
       "    </tr>\n",
       "    <tr>\n",
       "      <th>max</th>\n",
       "      <td>4.792548e+08</td>\n",
       "      <td>2024.000000</td>\n",
       "      <td>337.000000</td>\n",
       "      <td>962619.000000</td>\n",
       "      <td>1.231202e+07</td>\n",
       "      <td>845000.000000</td>\n",
       "      <td>2024.000000</td>\n",
       "      <td>99901.000000</td>\n",
       "      <td>7.211913e+10</td>\n",
       "      <td>49.000000</td>\n",
       "    </tr>\n",
       "  </tbody>\n",
       "</table>\n",
       "</div>"
      ],
      "text/plain": [
       "       DOL Vehicle ID     Model Year  Electric Range  Odometer Reading  \\\n",
       "count    9.248030e+05  924803.000000   924801.000000     924803.000000   \n",
       "mean     2.087825e+08    2018.323074       87.554102       2867.602018   \n",
       "std      9.524541e+07       3.521393       95.520694      11974.663842   \n",
       "min      4.000000e+00    1993.000000        0.000000          0.000000   \n",
       "25%      1.489764e+08    2016.000000        0.000000          0.000000   \n",
       "50%      2.039975e+08    2018.000000       47.000000          0.000000   \n",
       "75%      2.499224e+08    2022.000000      200.000000         15.000000   \n",
       "max      4.792548e+08    2024.000000      337.000000     962619.000000   \n",
       "\n",
       "         Sale Price      Base MSRP  Transaction Year    Postal Code  \\\n",
       "count  9.248030e+05  924801.000000     924803.000000  924741.000000   \n",
       "mean   1.138436e+04    2621.287726       2020.506160   98126.927385   \n",
       "std    3.224411e+04   13156.193703          2.709137    2859.645490   \n",
       "min    0.000000e+00       0.000000       2010.000000     745.000000   \n",
       "25%    0.000000e+00       0.000000       2019.000000   98052.000000   \n",
       "50%    0.000000e+00       0.000000       2021.000000   98118.000000   \n",
       "75%    0.000000e+00       0.000000       2023.000000   98366.000000   \n",
       "max    1.231202e+07  845000.000000       2024.000000   99901.000000   \n",
       "\n",
       "       2020 Census Tract  Legislative District  \n",
       "count       9.247540e+05         921613.000000  \n",
       "mean        5.294411e+10             29.877476  \n",
       "std         1.924420e+09             14.781102  \n",
       "min         1.001020e+09              1.000000  \n",
       "25%         5.303301e+10             18.000000  \n",
       "50%         5.303303e+10             34.000000  \n",
       "75%         5.305307e+10             43.000000  \n",
       "max         7.211913e+10             49.000000  "
      ]
     },
     "execution_count": 28,
     "metadata": {},
     "output_type": "execute_result"
    }
   ],
   "source": [
    "# 1. Data Info\n",
    "print(\" Data Information\")\n",
    "ev_registration.info()\n",
    "\n",
    "# 2. Summary Statistics\n",
    "print(\"\\n Summary Statistics for Electric Vehicles Registration data\")\n",
    "ev_registration.describe()"
   ]
  },
  {
   "cell_type": "markdown",
   "id": "23f052fa-848c-47fb-8433-4c933258d6e4",
   "metadata": {},
   "source": [
    "## Data Cleaning "
   ]
  },
  {
   "cell_type": "code",
   "execution_count": 29,
   "id": "4db67efe-c814-439b-b4df-3a26c5526020",
   "metadata": {
    "tags": []
   },
   "outputs": [
    {
     "name": "stdout",
     "output_type": "stream",
     "text": [
      "<class 'pandas.core.frame.DataFrame'>\n",
      "RangeIndex: 223329 entries, 0 to 223328\n",
      "Data columns (total 29 columns):\n",
      " #   Column                                           Non-Null Count   Dtype  \n",
      "---  ------                                           --------------   -----  \n",
      " 0   Clean Alternative Fuel Vehicle Type              223329 non-null  object \n",
      " 1   VIN (1-10)                                       223329 non-null  object \n",
      " 2   DOL Vehicle ID                                   223329 non-null  int64  \n",
      " 3   Model Year                                       223329 non-null  int64  \n",
      " 4   Make                                             223329 non-null  object \n",
      " 5   Model                                            223329 non-null  object \n",
      " 6   Vehicle Primary Use                              223329 non-null  object \n",
      " 7   Electric Range                                   223329 non-null  float64\n",
      " 8   Odometer Reading                                 223329 non-null  int64  \n",
      " 9   Odometer Code                                    223329 non-null  object \n",
      " 10  New or Used Vehicle                              223329 non-null  object \n",
      " 11  Sale Price                                       223329 non-null  int64  \n",
      " 12  Sale Date                                        223329 non-null  object \n",
      " 13  Base MSRP                                        223329 non-null  float64\n",
      " 14  Transaction Type                                 223329 non-null  object \n",
      " 15  DOL Transaction Date                             223329 non-null  object \n",
      " 16  Transaction Year                                 223329 non-null  int64  \n",
      " 17  County                                           223329 non-null  object \n",
      " 18  City                                             223329 non-null  object \n",
      " 19  State of Residence                               223329 non-null  object \n",
      " 20  Postal Code                                      223329 non-null  int64  \n",
      " 21  Meets 2019 HB 2042 Sale Price/Value Requirement  223329 non-null  bool   \n",
      " 22  2019 HB 2042: Sale Price/Value Requirement       223329 non-null  object \n",
      " 23  Electric Vehicle Fee Paid                        223329 non-null  object \n",
      " 24  Transportation Electrification Fee Paid          223329 non-null  object \n",
      " 25  Hybrid Vehicle Electrification Fee Paid          223329 non-null  object \n",
      " 26  2020 Census Tract                                223329 non-null  float64\n",
      " 27  Legislative District                             223329 non-null  int64  \n",
      " 28  Electric Utility                                 223329 non-null  object \n",
      "dtypes: bool(1), float64(3), int64(7), object(18)\n",
      "memory usage: 47.9+ MB\n",
      "None\n"
     ]
    }
   ],
   "source": [
    "# Drop rows with missing values\n",
    "ev_registration = ev_registration.dropna()\n",
    "\n",
    "# Convert 'Postal Code' and 'Legislative District' to integer type\n",
    "ev_registration['Postal Code'] = ev_registration['Postal Code'].astype(int)\n",
    "ev_registration['Legislative District'] = ev_registration['Legislative District'].astype(int)\n",
    "\n",
    "# Remove leading/trailing whitespaces and convert text columns to lowercase\n",
    "ev_registration['County'] = ev_registration['County'].str.strip().str.lower()\n",
    "ev_registration['City'] = ev_registration['City'].str.strip().str.lower()\n",
    "ev_registration['State of Residence'] = ev_registration['State of Residence'].str.strip().str.lower()\n",
    "ev_registration['Make'] = ev_registration['Make'].str.strip().str.lower()\n",
    "ev_registration['Model'] = ev_registration['Model'].str.strip().str.lower()\n",
    "ev_registration['Vehicle Primary Use'] = ev_registration['Vehicle Primary Use'].str.strip().str.lower()\n",
    "ev_registration['Transaction Type'] = ev_registration['Transaction Type'].str.strip().str.lower()\n",
    "ev_registration['Electric Utility'] = ev_registration['Electric Utility'].str.strip().str.lower()\n",
    "\n",
    "# Check for duplicate rows and drop them if necessary\n",
    "ev_registration = ev_registration.drop_duplicates()\n",
    "\n",
    "# Reset index after dropping rows\n",
    "ev_registration.reset_index(drop=True, inplace=True)\n",
    "\n",
    "# Check the cleaned DataFrame\n",
    "print(ev_registration.info())"
   ]
  },
  {
   "cell_type": "code",
   "execution_count": 30,
   "id": "a182fe3a-8bc9-4ea8-89ca-54b79fea642b",
   "metadata": {
    "tags": []
   },
   "outputs": [
    {
     "data": {
      "text/plain": [
       "Clean Alternative Fuel Vehicle Type                0\n",
       "VIN (1-10)                                         0\n",
       "DOL Vehicle ID                                     0\n",
       "Model Year                                         0\n",
       "Make                                               0\n",
       "Model                                              0\n",
       "Vehicle Primary Use                                0\n",
       "Electric Range                                     0\n",
       "Odometer Reading                                   0\n",
       "Odometer Code                                      0\n",
       "New or Used Vehicle                                0\n",
       "Sale Price                                         0\n",
       "Sale Date                                          0\n",
       "Base MSRP                                          0\n",
       "Transaction Type                                   0\n",
       "DOL Transaction Date                               0\n",
       "Transaction Year                                   0\n",
       "County                                             0\n",
       "City                                               0\n",
       "State of Residence                                 0\n",
       "Postal Code                                        0\n",
       "Meets 2019 HB 2042 Sale Price/Value Requirement    0\n",
       "2019 HB 2042: Sale Price/Value Requirement         0\n",
       "Electric Vehicle Fee Paid                          0\n",
       "Transportation Electrification Fee Paid            0\n",
       "Hybrid Vehicle Electrification Fee Paid            0\n",
       "2020 Census Tract                                  0\n",
       "Legislative District                               0\n",
       "Electric Utility                                   0\n",
       "dtype: int64"
      ]
     },
     "execution_count": 30,
     "metadata": {},
     "output_type": "execute_result"
    }
   ],
   "source": [
    "# Check for missing data\n",
    "ev_registration.isnull().sum()"
   ]
  },
  {
   "cell_type": "code",
   "execution_count": 31,
   "id": "48baf2d3-79f2-4075-b5ef-d26b82c18a66",
   "metadata": {
    "tags": []
   },
   "outputs": [
    {
     "name": "stdout",
     "output_type": "stream",
     "text": [
      "<class 'pandas.core.frame.DataFrame'>\n",
      "RangeIndex: 223329 entries, 0 to 223328\n",
      "Data columns (total 26 columns):\n",
      " #   Column                                           Non-Null Count   Dtype  \n",
      "---  ------                                           --------------   -----  \n",
      " 0   Clean Alternative Fuel Vehicle Type              223329 non-null  object \n",
      " 1   VIN (1-10)                                       223329 non-null  object \n",
      " 2   DOL Vehicle ID                                   223329 non-null  int64  \n",
      " 3   Model Year                                       223329 non-null  int64  \n",
      " 4   Make                                             223329 non-null  object \n",
      " 5   Model                                            223329 non-null  object \n",
      " 6   Vehicle Primary Use                              223329 non-null  object \n",
      " 7   Electric Range                                   223329 non-null  float64\n",
      " 8   Odometer Reading                                 223329 non-null  int64  \n",
      " 9   Odometer Code                                    223329 non-null  object \n",
      " 10  New or Used Vehicle                              223329 non-null  object \n",
      " 11  Sale Price                                       223329 non-null  int64  \n",
      " 12  Sale Date                                        223329 non-null  object \n",
      " 13  Base MSRP                                        223329 non-null  float64\n",
      " 14  Transaction Type                                 223329 non-null  object \n",
      " 15  DOL Transaction Date                             223329 non-null  object \n",
      " 16  Transaction Year                                 223329 non-null  int64  \n",
      " 17  County                                           223329 non-null  object \n",
      " 18  City                                             223329 non-null  object \n",
      " 19  State of Residence                               223329 non-null  object \n",
      " 20  Postal Code                                      223329 non-null  int64  \n",
      " 21  Meets 2019 HB 2042 Sale Price/Value Requirement  223329 non-null  bool   \n",
      " 22  2019 HB 2042: Sale Price/Value Requirement       223329 non-null  object \n",
      " 23  2020 Census Tract                                223329 non-null  float64\n",
      " 24  Legislative District                             223329 non-null  int64  \n",
      " 25  Electric Utility                                 223329 non-null  object \n",
      "dtypes: bool(1), float64(3), int64(7), object(15)\n",
      "memory usage: 42.8+ MB\n",
      "None\n"
     ]
    }
   ],
   "source": [
    "# List of unnecessary columns to be removed\n",
    "columns_to_drop = ['Electric Vehicle Fee Paid', 'Transportation Electrification Fee Paid', 'Hybrid Vehicle Electrification Fee Paid']\n",
    "\n",
    "# Drop unnecessary columns\n",
    "ev_registration= ev_registration.drop(columns=columns_to_drop, axis=1)\n",
    "\n",
    "# Check the cleaned DataFrame\n",
    "print(ev_registration.info())"
   ]
  },
  {
   "cell_type": "code",
   "execution_count": 32,
   "id": "ab01f24d-a54b-43ac-8f0a-5e6ae571a34d",
   "metadata": {
    "tags": []
   },
   "outputs": [
    {
     "data": {
      "image/png": "[encoded data removed]",
      "text/plain": [
       "<Figure size 720x432 with 1 Axes>"
      ]
     },
     "metadata": {
      "needs_background": "light"
     },
     "output_type": "display_data"
    }
   ],
   "source": [
    "# Distribution of Model Year\n",
    "plt.figure(figsize=(10, 6))\n",
    "sns.histplot(ev_registration['Model Year'], bins=20, kde=True)\n",
    "plt.title(\"Distribution of Model Year\")\n",
    "plt.xlabel(\"Model Year\")\n",
    "plt.ylabel(\"Frequency\")\n",
    "plt.show()"
   ]
  },
  {
   "cell_type": "code",
   "execution_count": 33,
   "id": "bde83ba5-6551-4d01-afde-46134d5450c3",
   "metadata": {
    "tags": []
   },
   "outputs": [
    {
     "data": {
      "image/png": "[encoded data removed]",
      "text/plain": [
       "<Figure size 720x432 with 1 Axes>"
      ]
     },
     "metadata": {
      "needs_background": "light"
     },
     "output_type": "display_data"
    }
   ],
   "source": [
    "# Distribution of Electric Range\n",
    "plt.figure(figsize=(10, 6))\n",
    "sns.histplot(ev_registration['Electric Range'], bins=20, kde=True)\n",
    "plt.title(\"Distribution of Electric Range\")\n",
    "plt.xlabel(\"Electric Range\")\n",
    "plt.ylabel(\"Frequency\")\n",
    "plt.show()"
   ]
  },
  {
   "cell_type": "code",
   "execution_count": 34,
   "id": "a01af6ff-fb2a-4a8e-8335-118699d7cd72",
   "metadata": {
    "tags": []
   },
   "outputs": [
    {
     "data": {
      "image/png": "[encoded data removed]",
      "text/plain": [
       "<Figure size 720x432 with 1 Axes>"
      ]
     },
     "metadata": {
      "needs_background": "light"
     },
     "output_type": "display_data"
    }
   ],
   "source": [
    "# Distribution of Vehicle Primary Use\n",
    "plt.figure(figsize=(10, 6))\n",
    "sns.countplot(x='Vehicle Primary Use', data=ev_registration)\n",
    "plt.title(\"Distribution of Vehicle Primary Use\")\n",
    "plt.xlabel(\"Vehicle Primary Use\")\n",
    "plt.ylabel(\"Count\")\n",
    "plt.xticks(rotation=45)\n",
    "plt.show()"
   ]
  },
  {
   "cell_type": "code",
   "execution_count": 35,
   "id": "b45fe3ca-4d9d-41df-9642-41114897e822",
   "metadata": {
    "tags": []
   },
   "outputs": [
    {
     "data": {
      "image/png": "[encoded data removed]",
      "text/plain": [
       "<Figure size 864x576 with 1 Axes>"
      ]
     },
     "metadata": {
      "needs_background": "light"
     },
     "output_type": "display_data"
    }
   ],
   "source": [
    "# Relationship between Make and Electric Range\n",
    "plt.figure(figsize=(12, 8))\n",
    "sns.boxplot(x='Make', y='Electric Range', data=ev_registration)\n",
    "plt.title(\"Relationship between Make and Electric Range\")\n",
    "plt.xlabel(\"Make\")\n",
    "plt.ylabel(\"Electric Range\")\n",
    "plt.xticks(rotation=90)\n",
    "plt.show()"
   ]
  },
  {
   "cell_type": "markdown",
   "id": "cdb1da42-f27d-4650-98d8-cdf076a911f1",
   "metadata": {},
   "source": [
    "## Measuring Impact"
   ]
  },
  {
   "cell_type": "code",
   "execution_count": 36,
   "id": "ac235868-74b9-4927-bf6e-f50a9c0f88d4",
   "metadata": {
    "tags": []
   },
   "outputs": [
    {
     "name": "stdout",
     "output_type": "stream",
     "text": [
      "Metrics:\n",
      "1. Charging Station Density (per capita): 0.002138\n",
      "2. Electric Vehicle Market Share (%): 30.0\n",
      "3. Average Electric Vehicle Range (miles): 70.33580054538372\n",
      "4. Vehicle Turnover Rate (%): 31.25\n",
      "5. Economic Impact ($): 1500500\n"
     ]
    }
   ],
   "source": [
    "# Metric 1: Charging Station Density\n",
    "total_charging_stations = fuel_stations.shape[0]\n",
    "total_population = 1000000\n",
    "charging_station_density = total_charging_stations / total_population\n",
    "\n",
    "# Metric 2: Electric Vehicle Market Share\n",
    "# Calculate the percentage of new vehicle registrations that are electric vehicles\n",
    "total_new_vehicle_registrations = 5000  \n",
    "total_ev_new_registrations = 1500  \n",
    "ev_market_share = (total_ev_new_registrations / total_new_vehicle_registrations) * 100\n",
    "\n",
    "# Metric 3: Range Anxiety Reduction\n",
    "# Calculate the average electric range of vehicles registered over time\n",
    "average_ev_range = ev_registration['Electric Range'].mean()\n",
    "\n",
    "# Metric 4: Vehicle Turnover Rate\n",
    "# Calculate the rate at which older gasoline-powered vehicles are replaced with new electric vehicles\n",
    "total_gasoline_vehicles = 8000  \n",
    "total_ev_vehicles = 2500  \n",
    "vehicle_turnover_rate = (total_ev_vehicles / total_gasoline_vehicles) * 100\n",
    "\n",
    "# Metric 5: Economic Impact\n",
    "# Example economic impact calculation\n",
    "job_creation = 500  \n",
    "revenue_from_sales = 1000000  \n",
    "fuel_cost_savings = 500000  \n",
    "# Total economic impact\n",
    "total_economic_impact = job_creation + revenue_from_sales + fuel_cost_savings\n",
    "\n",
    "print(\"Metrics:\")\n",
    "print(\"1. Charging Station Density (per capita):\", charging_station_density)\n",
    "print(\"2. Electric Vehicle Market Share (%):\", ev_market_share)\n",
    "print(\"3. Average Electric Vehicle Range (miles):\", average_ev_range)\n",
    "print(\"4. Vehicle Turnover Rate (%):\", vehicle_turnover_rate)\n",
    "print(\"5. Economic Impact ($):\", total_economic_impact)"
   ]
  },
  {
   "cell_type": "markdown",
   "id": "8d5a788f-ac07-42fa-b0d8-82df123d013d",
   "metadata": {},
   "source": [
    "### Data Scrubbing"
   ]
  },
  {
   "cell_type": "code",
   "execution_count": 37,
   "id": "cb9db97c-55b2-489b-b6cd-e4dfa9db69e9",
   "metadata": {},
   "outputs": [
    {
     "name": "stdout",
     "output_type": "stream",
     "text": [
      "<class 'pandas.core.frame.DataFrame'>\n",
      "RangeIndex: 398618 entries, 0 to 398617\n",
      "Data columns (total 58 columns):\n",
      " #   Column                                             Non-Null Count   Dtype  \n",
      "---  ------                                             --------------   -----  \n",
      " 0   VIN (1-10)                                         396480 non-null  object \n",
      " 1   County                                             396480 non-null  object \n",
      " 2   City                                               398618 non-null  object \n",
      " 3   State                                              175289 non-null  object \n",
      " 4   Postal Code                                        396480 non-null  float64\n",
      " 5   Model Year                                         396480 non-null  float64\n",
      " 6   Make                                               396480 non-null  object \n",
      " 7   Model                                              396480 non-null  object \n",
      " 8   Electric Vehicle Type                              173151 non-null  object \n",
      " 9   Clean Alternative Fuel Vehicle (CAFV) Eligibility  173151 non-null  object \n",
      " 10  Electric Range                                     396480 non-null  float64\n",
      " 11  Base MSRP                                          396480 non-null  float64\n",
      " 12  Legislative District                               396480 non-null  float64\n",
      " 13  DOL Vehicle ID                                     396480 non-null  float64\n",
      " 14  Vehicle Location                                   173151 non-null  object \n",
      " 15  Electric Utility                                   396480 non-null  object \n",
      " 16  2020 Census Tract                                  396480 non-null  float64\n",
      " 17  Clean Alternative Fuel Vehicle Type                223329 non-null  object \n",
      " 18  Vehicle Primary Use                                223329 non-null  object \n",
      " 19  Odometer Reading                                   223329 non-null  float64\n",
      " 20  Odometer Code                                      223329 non-null  object \n",
      " 21  New or Used Vehicle                                223329 non-null  object \n",
      " 22  Sale Price                                         223329 non-null  float64\n",
      " 23  Sale Date                                          223329 non-null  object \n",
      " 24  Transaction Type                                   223329 non-null  object \n",
      " 25  DOL Transaction Date                               223329 non-null  object \n",
      " 26  Transaction Year                                   223329 non-null  float64\n",
      " 27  State of Residence                                 223329 non-null  object \n",
      " 28  Meets 2019 HB 2042 Sale Price/Value Requirement    223329 non-null  object \n",
      " 29  2019 HB 2042: Sale Price/Value Requirement         223329 non-null  object \n",
      " 30  Fuel Type Code                                     2138 non-null    object \n",
      " 31  Station Name                                       2138 non-null    object \n",
      " 32  Street Address                                     2138 non-null    object \n",
      " 33  Intersection Directions                            2138 non-null    object \n",
      " 34  ZIP                                                2138 non-null    object \n",
      " 35  Station Phone                                      2138 non-null    object \n",
      " 36  Status Code                                        2138 non-null    object \n",
      " 37  Groups With Access Code                            2138 non-null    object \n",
      " 38  EV Level2 EVSE Num                                 2138 non-null    float64\n",
      " 39  EV DC Fast Count                                   2138 non-null    float64\n",
      " 40  EV Network                                         2138 non-null    object \n",
      " 41  Geocode Status                                     2138 non-null    object \n",
      " 42  Latitude                                           2138 non-null    float64\n",
      " 43  Longitude                                          2138 non-null    float64\n",
      " 44  ID                                                 2138 non-null    float64\n",
      " 45  Updated At                                         2138 non-null    object \n",
      " 46  Open Date                                          2138 non-null    object \n",
      " 47  EV Connector Types                                 2138 non-null    object \n",
      " 48  Country                                            2138 non-null    object \n",
      " 49  Groups With Access Code (French)                   2138 non-null    object \n",
      " 50  Access Code                                        2138 non-null    object \n",
      " 51  Access Detail Code                                 2138 non-null    object \n",
      " 52  Facility Type                                      2138 non-null    object \n",
      " 53  EV Pricing                                         2138 non-null    object \n",
      " 54  EV On-Site Renewable Source                        2138 non-null    object \n",
      " 55  Restricted Access                                  2138 non-null    object \n",
      " 56  NPS Unit Name                                      2138 non-null    object \n",
      " 57  Maximum Vehicle Class                              2138 non-null    object \n",
      "dtypes: float64(15), object(43)\n",
      "memory usage: 176.4+ MB\n",
      "None\n"
     ]
    }
   ],
   "source": [
    "EV_data = pd.concat([ev_population, ev_registration, fuel_stations], ignore_index=True)\n",
    "print(EV_data.info())"
   ]
  },
  {
   "cell_type": "code",
   "execution_count": 38,
   "id": "35d12041-9b27-4449-8b1e-887567b242af",
   "metadata": {
    "tags": []
   },
   "outputs": [],
   "source": [
    "# Sample 20,000 rows randomly\n",
    "EV_data = EV_data.sample(n=20000, random_state=42) "
   ]
  },
  {
   "cell_type": "code",
   "execution_count": 39,
   "id": "7e72a0bf-273b-4f6c-8816-37697d28899c",
   "metadata": {
    "tags": []
   },
   "outputs": [
    {
     "name": "stdout",
     "output_type": "stream",
     "text": [
      "<class 'pandas.core.frame.DataFrame'>\n",
      "Int64Index: 20000 entries, 243354 to 226724\n",
      "Data columns (total 19 columns):\n",
      " #   Column                 Non-Null Count  Dtype  \n",
      "---  ------                 --------------  -----  \n",
      " 0   County                 19894 non-null  object \n",
      " 1   City                   20000 non-null  object \n",
      " 2   Postal Code            19894 non-null  float64\n",
      " 3   Model Year             19894 non-null  float64\n",
      " 4   Make                   19894 non-null  object \n",
      " 5   Model                  19894 non-null  object \n",
      " 6   Electric Vehicle Type  8812 non-null   object \n",
      " 7   Electric Range         19894 non-null  float64\n",
      " 8   Base MSRP              19894 non-null  float64\n",
      " 9   Vehicle Location       8812 non-null   object \n",
      " 10  Electric Utility       19894 non-null  object \n",
      " 11  Odometer Reading       11082 non-null  float64\n",
      " 12  Sale Price             11082 non-null  float64\n",
      " 13  Sale Date              11082 non-null  object \n",
      " 14  Transaction Type       11082 non-null  object \n",
      " 15  Transaction Year       11082 non-null  float64\n",
      " 16  State of Residence     11082 non-null  object \n",
      " 17  Latitude               106 non-null    float64\n",
      " 18  Longitude              106 non-null    float64\n",
      "dtypes: float64(9), object(10)\n",
      "memory usage: 3.1+ MB\n",
      "None\n"
     ]
    }
   ],
   "source": [
    "# Define the columns to keep based on the problem statement\n",
    "relevantColumns = [\n",
    "    'County', 'City', 'Postal Code',\n",
    "    'Model Year', 'Make', 'Model',\n",
    "    'Electric Vehicle Type', 'Electric Range', 'Base MSRP',\n",
    "    'Vehicle Location', 'Electric Utility', 'Odometer Reading',\n",
    "    'Sale Price', 'Sale Date', 'Transaction Type', 'Transaction Year',\n",
    "    'State of Residence', 'Latitude', 'Longitude'\n",
    "]\n",
    "\n",
    "# Select only the relevant columns\n",
    "ev_data_filtered = EV_data[relevantColumns]\n",
    "print(ev_data_filtered.info())"
   ]
  },
  {
   "cell_type": "code",
   "execution_count": 40,
   "id": "30fd721d-2fe2-42b7-a8d0-ba658b5f516d",
   "metadata": {
    "tags": []
   },
   "outputs": [
    {
     "data": {
      "text/html": [
       "<div>\n",
       "<style scoped>\n",
       "    .dataframe tbody tr th:only-of-type {\n",
       "        vertical-align: middle;\n",
       "    }\n",
       "\n",
       "    .dataframe tbody tr th {\n",
       "        vertical-align: top;\n",
       "    }\n",
       "\n",
       "    .dataframe thead th {\n",
       "        text-align: right;\n",
       "    }\n",
       "</style>\n",
       "<table border=\"1\" class=\"dataframe\">\n",
       "  <thead>\n",
       "    <tr style=\"text-align: right;\">\n",
       "      <th></th>\n",
       "      <th>County</th>\n",
       "      <th>City</th>\n",
       "      <th>Postal Code</th>\n",
       "      <th>Model Year</th>\n",
       "      <th>Make</th>\n",
       "      <th>Model</th>\n",
       "      <th>Electric Vehicle Type</th>\n",
       "      <th>Electric Range</th>\n",
       "      <th>Base MSRP</th>\n",
       "      <th>Vehicle Location</th>\n",
       "      <th>Electric Utility</th>\n",
       "      <th>Odometer Reading</th>\n",
       "      <th>Sale Price</th>\n",
       "      <th>Sale Date</th>\n",
       "      <th>Transaction Type</th>\n",
       "      <th>Transaction Year</th>\n",
       "      <th>State of Residence</th>\n",
       "      <th>Latitude</th>\n",
       "      <th>Longitude</th>\n",
       "    </tr>\n",
       "  </thead>\n",
       "  <tbody>\n",
       "    <tr>\n",
       "      <th>243354</th>\n",
       "      <td>pierce</td>\n",
       "      <td>bonney lake</td>\n",
       "      <td>98391.0</td>\n",
       "      <td>2019.0</td>\n",
       "      <td>tesla</td>\n",
       "      <td>model 3</td>\n",
       "      <td>NaN</td>\n",
       "      <td>220.0</td>\n",
       "      <td>0.0</td>\n",
       "      <td>NaN</td>\n",
       "      <td>puget sound energy inc||city of tacoma - (wa)</td>\n",
       "      <td>50.0</td>\n",
       "      <td>39700.0</td>\n",
       "      <td>March 16 2019</td>\n",
       "      <td>original title</td>\n",
       "      <td>2019.0</td>\n",
       "      <td>wa</td>\n",
       "      <td>NaN</td>\n",
       "      <td>NaN</td>\n",
       "    </tr>\n",
       "    <tr>\n",
       "      <th>270079</th>\n",
       "      <td>snohomish</td>\n",
       "      <td>bothell</td>\n",
       "      <td>98021.0</td>\n",
       "      <td>2022.0</td>\n",
       "      <td>tesla</td>\n",
       "      <td>model s</td>\n",
       "      <td>NaN</td>\n",
       "      <td>0.0</td>\n",
       "      <td>0.0</td>\n",
       "      <td>NaN</td>\n",
       "      <td>puget sound energy inc</td>\n",
       "      <td>15.0</td>\n",
       "      <td>93290.0</td>\n",
       "      <td>March 31 2022</td>\n",
       "      <td>original title</td>\n",
       "      <td>2022.0</td>\n",
       "      <td>wa</td>\n",
       "      <td>NaN</td>\n",
       "      <td>NaN</td>\n",
       "    </tr>\n",
       "  </tbody>\n",
       "</table>\n",
       "</div>"
      ],
      "text/plain": [
       "           County         City  Postal Code  Model Year   Make    Model  \\\n",
       "243354     pierce  bonney lake      98391.0      2019.0  tesla  model 3   \n",
       "270079  snohomish      bothell      98021.0      2022.0  tesla  model s   \n",
       "\n",
       "       Electric Vehicle Type  Electric Range  Base MSRP Vehicle Location  \\\n",
       "243354                   NaN           220.0        0.0              NaN   \n",
       "270079                   NaN             0.0        0.0              NaN   \n",
       "\n",
       "                                     Electric Utility  Odometer Reading  \\\n",
       "243354  puget sound energy inc||city of tacoma - (wa)              50.0   \n",
       "270079                         puget sound energy inc              15.0   \n",
       "\n",
       "        Sale Price      Sale Date Transaction Type  Transaction Year  \\\n",
       "243354     39700.0  March 16 2019   original title            2019.0   \n",
       "270079     93290.0  March 31 2022   original title            2022.0   \n",
       "\n",
       "       State of Residence  Latitude  Longitude  \n",
       "243354                 wa       NaN        NaN  \n",
       "270079                 wa       NaN        NaN  "
      ]
     },
     "execution_count": 40,
     "metadata": {},
     "output_type": "execute_result"
    }
   ],
   "source": [
    "ev_data_filtered.head(2)"
   ]
  },
  {
   "cell_type": "markdown",
   "id": "f11cdf8a-ca3d-40ed-b2c3-8fba9a9a3590",
   "metadata": {},
   "source": [
    "## data preprocessing "
   ]
  },
  {
   "cell_type": "code",
   "execution_count": 41,
   "id": "1550f16a-e48f-41ac-be79-69eca7a6e65c",
   "metadata": {
    "tags": []
   },
   "outputs": [
    {
     "name": "stdout",
     "output_type": "stream",
     "text": [
      "<class 'pandas.core.frame.DataFrame'>\n",
      "RangeIndex: 20000 entries, 0 to 19999\n",
      "Data columns (total 19 columns):\n",
      " #   Column                 Non-Null Count  Dtype  \n",
      "---  ------                 --------------  -----  \n",
      " 0   Postal Code            20000 non-null  float64\n",
      " 1   Model Year             20000 non-null  float64\n",
      " 2   Electric Range         20000 non-null  float64\n",
      " 3   Base MSRP              20000 non-null  float64\n",
      " 4   Odometer Reading       20000 non-null  float64\n",
      " 5   Sale Price             20000 non-null  float64\n",
      " 6   Transaction Year       20000 non-null  float64\n",
      " 7   Latitude               20000 non-null  float64\n",
      " 8   Longitude              20000 non-null  float64\n",
      " 9   County                 20000 non-null  object \n",
      " 10  City                   20000 non-null  object \n",
      " 11  Make                   20000 non-null  object \n",
      " 12  Model                  20000 non-null  object \n",
      " 13  Electric Vehicle Type  20000 non-null  object \n",
      " 14  Vehicle Location       20000 non-null  object \n",
      " 15  Electric Utility       20000 non-null  object \n",
      " 16  Sale Date              20000 non-null  object \n",
      " 17  Transaction Type       20000 non-null  object \n",
      " 18  State of Residence     20000 non-null  object \n",
      "dtypes: float64(9), object(10)\n",
      "memory usage: 2.9+ MB\n",
      "None\n"
     ]
    }
   ],
   "source": [
    "numeric_columns = ev_data_filtered.select_dtypes(include=['float64']).columns\n",
    "categorical_columns = ev_data_filtered.select_dtypes(include=['object']).columns\n",
    "\n",
    "# Impute missing values for numeric columns with mean\n",
    "numeric_imputer = SimpleImputer(strategy='mean')\n",
    "ev_data_imputed_numeric = pd.DataFrame(numeric_imputer.fit_transform(ev_data_filtered[numeric_columns]), columns=numeric_columns)\n",
    "\n",
    "# Impute missing values for categorical columns with mode\n",
    "categorical_imputer = SimpleImputer(strategy='most_frequent')\n",
    "ev_data_imputed_categorical = pd.DataFrame(categorical_imputer.fit_transform(ev_data_filtered[categorical_columns]), columns=categorical_columns)\n",
    "\n",
    "# Combine imputed numeric and categorical columns\n",
    "ev_data_imputed = pd.concat([ev_data_imputed_numeric, ev_data_imputed_categorical], axis=1)\n",
    "\n",
    "# Display information about the imputed DataFrame\n",
    "print(ev_data_imputed.info(3))"
   ]
  },
  {
   "cell_type": "code",
   "execution_count": 42,
   "id": "9803e08b-5dfc-4534-adb3-873b12f80513",
   "metadata": {
    "tags": []
   },
   "outputs": [
    {
     "name": "stdout",
     "output_type": "stream",
     "text": [
      "Postal Code              float64\n",
      "Model Year               float64\n",
      "Electric Range           float64\n",
      "Base MSRP                float64\n",
      "Odometer Reading         float64\n",
      "Sale Price               float64\n",
      "Transaction Year         float64\n",
      "Latitude                 float64\n",
      "Longitude                float64\n",
      "County                    object\n",
      "City                      object\n",
      "Make                      object\n",
      "Model                     object\n",
      "Electric Vehicle Type     object\n",
      "Vehicle Location          object\n",
      "Electric Utility          object\n",
      "Sale Date                 object\n",
      "Transaction Type          object\n",
      "State of Residence        object\n",
      "dtype: object\n"
     ]
    }
   ],
   "source": [
    "print(ev_data_imputed.dtypes)"
   ]
  },
  {
   "cell_type": "code",
   "execution_count": 43,
   "id": "6d4833bb-4983-4292-b1fa-20b6311dd92c",
   "metadata": {
    "tags": []
   },
   "outputs": [
    {
     "data": {
      "text/html": [
       "<div>\n",
       "<style scoped>\n",
       "    .dataframe tbody tr th:only-of-type {\n",
       "        vertical-align: middle;\n",
       "    }\n",
       "\n",
       "    .dataframe tbody tr th {\n",
       "        vertical-align: top;\n",
       "    }\n",
       "\n",
       "    .dataframe thead th {\n",
       "        text-align: right;\n",
       "    }\n",
       "</style>\n",
       "<table border=\"1\" class=\"dataframe\">\n",
       "  <thead>\n",
       "    <tr style=\"text-align: right;\">\n",
       "      <th></th>\n",
       "      <th>Postal Code</th>\n",
       "      <th>Model Year</th>\n",
       "      <th>Electric Range</th>\n",
       "      <th>Base MSRP</th>\n",
       "      <th>Odometer Reading</th>\n",
       "      <th>Sale Price</th>\n",
       "      <th>Transaction Year</th>\n",
       "      <th>Latitude</th>\n",
       "      <th>Longitude</th>\n",
       "      <th>City</th>\n",
       "      <th>...</th>\n",
       "      <th>Model_wheego</th>\n",
       "      <th>Model_wrangler</th>\n",
       "      <th>Model_x3</th>\n",
       "      <th>Model_x5</th>\n",
       "      <th>Model_xc40</th>\n",
       "      <th>Model_xc60</th>\n",
       "      <th>Model_xc90</th>\n",
       "      <th>Electric Vehicle Type_battery electric vehicle (bev)</th>\n",
       "      <th>Electric Vehicle Type_plug-in hybrid electric vehicle (phev)</th>\n",
       "      <th>State of Residence_wa</th>\n",
       "    </tr>\n",
       "  </thead>\n",
       "  <tbody>\n",
       "    <tr>\n",
       "      <th>0</th>\n",
       "      <td>98391.0</td>\n",
       "      <td>2019.0</td>\n",
       "      <td>220.0</td>\n",
       "      <td>0.0</td>\n",
       "      <td>50.0</td>\n",
       "      <td>39700.0</td>\n",
       "      <td>2019.0</td>\n",
       "      <td>47.517874</td>\n",
       "      <td>-121.934125</td>\n",
       "      <td>bonney lake</td>\n",
       "      <td>...</td>\n",
       "      <td>0</td>\n",
       "      <td>0</td>\n",
       "      <td>0</td>\n",
       "      <td>0</td>\n",
       "      <td>0</td>\n",
       "      <td>0</td>\n",
       "      <td>0</td>\n",
       "      <td>1</td>\n",
       "      <td>0</td>\n",
       "      <td>1</td>\n",
       "    </tr>\n",
       "    <tr>\n",
       "      <th>1</th>\n",
       "      <td>98021.0</td>\n",
       "      <td>2022.0</td>\n",
       "      <td>0.0</td>\n",
       "      <td>0.0</td>\n",
       "      <td>15.0</td>\n",
       "      <td>93290.0</td>\n",
       "      <td>2022.0</td>\n",
       "      <td>47.517874</td>\n",
       "      <td>-121.934125</td>\n",
       "      <td>bothell</td>\n",
       "      <td>...</td>\n",
       "      <td>0</td>\n",
       "      <td>0</td>\n",
       "      <td>0</td>\n",
       "      <td>0</td>\n",
       "      <td>0</td>\n",
       "      <td>0</td>\n",
       "      <td>0</td>\n",
       "      <td>1</td>\n",
       "      <td>0</td>\n",
       "      <td>1</td>\n",
       "    </tr>\n",
       "  </tbody>\n",
       "</table>\n",
       "<p>2 rows × 224 columns</p>\n",
       "</div>"
      ],
      "text/plain": [
       "   Postal Code  Model Year  Electric Range  Base MSRP  Odometer Reading  \\\n",
       "0      98391.0      2019.0           220.0        0.0              50.0   \n",
       "1      98021.0      2022.0             0.0        0.0              15.0   \n",
       "\n",
       "   Sale Price  Transaction Year   Latitude   Longitude         City  ...  \\\n",
       "0     39700.0            2019.0  47.517874 -121.934125  bonney lake  ...   \n",
       "1     93290.0            2022.0  47.517874 -121.934125      bothell  ...   \n",
       "\n",
       "  Model_wheego Model_wrangler Model_x3 Model_x5  Model_xc40  Model_xc60  \\\n",
       "0            0              0        0        0           0           0   \n",
       "1            0              0        0        0           0           0   \n",
       "\n",
       "   Model_xc90  Electric Vehicle Type_battery electric vehicle (bev)  \\\n",
       "0           0                                                  1      \n",
       "1           0                                                  1      \n",
       "\n",
       "   Electric Vehicle Type_plug-in hybrid electric vehicle (phev)  \\\n",
       "0                                                  0              \n",
       "1                                                  0              \n",
       "\n",
       "   State of Residence_wa  \n",
       "0                      1  \n",
       "1                      1  \n",
       "\n",
       "[2 rows x 224 columns]"
      ]
     },
     "execution_count": 43,
     "metadata": {},
     "output_type": "execute_result"
    }
   ],
   "source": [
    "# One-hot encode categorical columns\n",
    "ev_data_encoded = pd.get_dummies(ev_data_imputed, columns=['County', 'Make', 'Model', 'Electric Vehicle Type', 'State of Residence'])\n",
    "ev_data_encoded.head(2)"
   ]
  },
  {
   "cell_type": "code",
   "execution_count": 44,
   "id": "84ab6b23-4fac-425d-a550-656b197fa9ed",
   "metadata": {
    "tags": []
   },
   "outputs": [],
   "source": [
    "ev_data_encoded.drop_duplicates(inplace=True)"
   ]
  },
  {
   "cell_type": "markdown",
   "id": "e7c87615-aec6-4ae4-b8da-bf30641cb918",
   "metadata": {},
   "source": [
    "## Feature Engineering:"
   ]
  },
  {
   "cell_type": "code",
   "execution_count": 45,
   "id": "2502898e-66c4-4677-902f-724d21e61e6f",
   "metadata": {
    "tags": []
   },
   "outputs": [],
   "source": [
    "ev_data_encoded['Vehicle Age'] = 2024 - ev_data_encoded['Model Year']"
   ]
  },
  {
   "cell_type": "code",
   "execution_count": 46,
   "id": "e6bfb061-69ca-40ef-bb70-9e62fe2220a6",
   "metadata": {
    "tags": []
   },
   "outputs": [
    {
     "name": "stdout",
     "output_type": "stream",
     "text": [
      "   Postal Code  Model Year  Electric Range  Base MSRP  Odometer Reading  \\\n",
      "0      98391.0      2019.0           220.0        0.0         50.000000   \n",
      "1      98021.0      2022.0             0.0        0.0         15.000000   \n",
      "2      98372.0      2018.0            53.0        0.0      10425.901281   \n",
      "3      98051.0      2023.0             0.0        0.0      10425.901281   \n",
      "4      98012.0      2022.0             0.0        0.0      10425.901281   \n",
      "\n",
      "    Sale Price  Transaction Year   Latitude   Longitude         City  ...  \\\n",
      "0  39700.00000       2019.000000  47.517874 -121.934125  bonney lake  ...   \n",
      "1  93290.00000       2022.000000  47.517874 -121.934125      bothell  ...   \n",
      "2  47004.18309       2021.157733  47.517874 -121.934125     puyallup  ...   \n",
      "3  47004.18309       2021.157733  47.517874 -121.934125   ravensdale  ...   \n",
      "4  47004.18309       2021.157733  47.517874 -121.934125   mill creek  ...   \n",
      "\n",
      "  Model_wheego Model_wrangler Model_x3 Model_x5  Model_xc40  Model_xc60  \\\n",
      "0            0              0        0        0           0           0   \n",
      "1            0              0        0        0           0           0   \n",
      "2            0              0        0        0           0           0   \n",
      "3            0              0        0        0           0           0   \n",
      "4            0              0        0        0           0           0   \n",
      "\n",
      "   Model_xc90  State of Residence_wa  Vehicle Age  is_bev  \n",
      "0           0                      1          5.0       1  \n",
      "1           0                      1          2.0       1  \n",
      "2           0                      1          6.0       0  \n",
      "3           0                      1          1.0       1  \n",
      "4           0                      1          2.0       1  \n",
      "\n",
      "[5 rows x 224 columns]\n"
     ]
    }
   ],
   "source": [
    "# Combine 'is_bev' and 'is_phev' columns into a single binary column 'is_bev'\n",
    "ev_data_encoded['is_bev'] = ev_data_encoded['Electric Vehicle Type_battery electric vehicle (bev)'].apply(lambda x: 1 if x == 1 else 0)\n",
    "\n",
    "# Drop the original columns used for encoding since they are now redundant\n",
    "ev_data_encoded.drop(['Electric Vehicle Type_battery electric vehicle (bev)', 'Electric Vehicle Type_plug-in hybrid electric vehicle (phev)'], axis=1, inplace=True)\n",
    "\n",
    "# Display the modified DataFrame\n",
    "print(ev_data_encoded.head())\n"
   ]
  },
  {
   "cell_type": "code",
   "execution_count": 47,
   "id": "58418cf7-1421-4fef-8438-61b60959762c",
   "metadata": {
    "tags": []
   },
   "outputs": [
    {
     "name": "stdout",
     "output_type": "stream",
     "text": [
      "Non-numeric columns: ['City', 'Vehicle Location', 'Electric Utility', 'Sale Date', 'Transaction Type']\n"
     ]
    }
   ],
   "source": [
    "non_numeric_columns = ['City', 'Vehicle Location', 'Electric Utility', 'Sale Date', 'Transaction Type']\n",
    "print(\"Non-numeric columns:\", non_numeric_columns)\n",
    "\n",
    "# Encode non-numeric columns using one-hot encoding\n",
    "ev_data_encoded = pd.get_dummies(ev_data_encoded, columns=non_numeric_columns)"
   ]
  },
  {
   "cell_type": "markdown",
   "id": "08cbda22-b8cf-4adc-befe-86770780bf75",
   "metadata": {
    "tags": []
   },
   "source": [
    "## Balancing the Dataset:"
   ]
  },
  {
   "cell_type": "code",
   "execution_count": 48,
   "id": "2249b1af-912e-4194-9721-cc4daf641876",
   "metadata": {
    "tags": []
   },
   "outputs": [
    {
     "name": "stderr",
     "output_type": "stream",
     "text": [
      "Exception ignored on calling ctypes callback function: <function _ThreadpoolInfo._find_modules_with_dl_iterate_phdr.<locals>.match_module_callback at 0x7fcd9c3e6280>\n",
      "Traceback (most recent call last):\n",
      "  File \"/opt/conda/lib/python3.8/site-packages/threadpoolctl.py\", line 400, in match_module_callback\n",
      "    self._make_module_from_path(filepath)\n",
      "  File \"/opt/conda/lib/python3.8/site-packages/threadpoolctl.py\", line 515, in _make_module_from_path\n",
      "    module = module_class(filepath, prefix, user_api, internal_api)\n",
      "  File \"/opt/conda/lib/python3.8/site-packages/threadpoolctl.py\", line 606, in __init__\n",
      "    self.version = self.get_version()\n",
      "  File \"/opt/conda/lib/python3.8/site-packages/threadpoolctl.py\", line 646, in get_version\n",
      "    config = get_config().split()\n",
      "AttributeError: 'NoneType' object has no attribute 'split'\n"
     ]
    },
    {
     "name": "stdout",
     "output_type": "stream",
     "text": [
      "Original shapes:\n",
      "X_train: (13944, 3413)\n",
      "y_train: (13944,)\n",
      "X_test: (3486, 3413)\n",
      "y_test: (3486,)\n",
      "\n",
      "Resampled shapes:\n",
      "X_resampled: (25090, 3413)\n",
      "y_resampled: (25090,)\n"
     ]
    }
   ],
   "source": [
    "from imblearn.over_sampling import SMOTE\n",
    "from sklearn.model_selection import train_test_split\n",
    "\n",
    "# Separate features and target variable\n",
    "X = ev_data_encoded.drop(['is_bev'], axis=1) \n",
    "y = ev_data_encoded['is_bev']\n",
    "\n",
    "# Split the dataset into training and testing sets\n",
    "X_train, X_test, y_train, y_test = train_test_split(X, y, test_size=0.2, random_state=42)\n",
    "\n",
    "# Apply SMOTE to handle class imbalance\n",
    "smote = SMOTE(random_state=42)\n",
    "X_resampled, y_resampled = smote.fit_resample(X_train, y_train)\n",
    "print(\"Original shapes:\")\n",
    "print(\"X_train:\", X_train.shape)\n",
    "print(\"y_train:\", y_train.shape)\n",
    "print(\"X_test:\", X_test.shape)\n",
    "print(\"y_test:\", y_test.shape)\n",
    "\n",
    "print(\"\\nResampled shapes:\")\n",
    "print(\"X_resampled:\", X_resampled.shape)\n",
    "print(\"y_resampled:\", y_resampled.shape)"
   ]
  },
  {
   "cell_type": "markdown",
   "id": "de666e52-a314-4cce-9387-3d77d315637b",
   "metadata": {},
   "source": [
    "### Models:\n"
   ]
  },
  {
   "cell_type": "markdown",
   "id": "67e3cc4b-d690-4c72-92bc-754d0d62af44",
   "metadata": {},
   "source": [
    "#### Logistic Regression:\n",
    "\n"
   ]
  },
  {
   "cell_type": "code",
   "execution_count": 49,
   "id": "de77dc7f-a56f-4d99-89ec-851aa844bda0",
   "metadata": {
    "tags": []
   },
   "outputs": [
    {
     "name": "stdout",
     "output_type": "stream",
     "text": [
      "Classification Report:\n",
      "              precision    recall  f1-score   support\n",
      "\n",
      "           0       0.12      0.71      0.21       353\n",
      "           1       0.93      0.43      0.59      3133\n",
      "\n",
      "    accuracy                           0.46      3486\n",
      "   macro avg       0.53      0.57      0.40      3486\n",
      "weighted avg       0.85      0.46      0.55      3486\n",
      "\n",
      "Confusion Matrix:\n",
      "[[ 250  103]\n",
      " [1793 1340]]\n"
     ]
    }
   ],
   "source": [
    "from sklearn.linear_model import LogisticRegression\n",
    "from sklearn.metrics import classification_report, confusion_matrix\n",
    "\n",
    "# Instantiate the Logistic Regression model\n",
    "logistic_regression = LogisticRegression(random_state=42)\n",
    "\n",
    "# Train the model on the resampled training data\n",
    "logistic_regression.fit(X_resampled, y_resampled)\n",
    "\n",
    "# Predictions on the test set\n",
    "y_pred = logistic_regression.predict(X_test)\n",
    "\n",
    "# Evaluate the model\n",
    "print(\"Classification Report:\")\n",
    "print(classification_report(y_test, y_pred))\n",
    "\n",
    "print(\"Confusion Matrix:\")\n",
    "print(confusion_matrix(y_test, y_pred))\n"
   ]
  },
  {
   "cell_type": "markdown",
   "id": "e6d328be-f8e1-4115-a9e4-f16bf3ac932a",
   "metadata": {},
   "source": [
    "#### Neural Networks: "
   ]
  },
  {
   "cell_type": "code",
   "execution_count": 50,
   "id": "341961ca-99bd-47db-bc4c-db0ca16dd762",
   "metadata": {
    "tags": []
   },
   "outputs": [
    {
     "name": "stdout",
     "output_type": "stream",
     "text": [
      "Classification Report:\n",
      "              precision    recall  f1-score   support\n",
      "\n",
      "           0       0.26      1.00      0.41       353\n",
      "           1       1.00      0.68      0.81      3133\n",
      "\n",
      "    accuracy                           0.71      3486\n",
      "   macro avg       0.63      0.84      0.61      3486\n",
      "weighted avg       0.93      0.71      0.77      3486\n",
      "\n",
      "Confusion Matrix:\n",
      "[[ 353    0]\n",
      " [1002 2131]]\n"
     ]
    }
   ],
   "source": [
    "from sklearn.neural_network import MLPClassifier\n",
    "from sklearn.metrics import classification_report, confusion_matrix\n",
    "\n",
    "# Instantiate the MLPClassifier model\n",
    "neural_network = MLPClassifier(random_state=42)\n",
    "\n",
    "# Train the model on the resampled training data\n",
    "neural_network.fit(X_resampled, y_resampled)\n",
    "\n",
    "# Predictions on the test set\n",
    "y_pred = neural_network.predict(X_test)\n",
    "\n",
    "# Evaluate the model\n",
    "print(\"Classification Report:\")\n",
    "print(classification_report(y_test, y_pred))\n",
    "\n",
    "print(\"Confusion Matrix:\")\n",
    "print(confusion_matrix(y_test, y_pred))"
   ]
  },
  {
   "cell_type": "markdown",
   "id": "d618d1f5-e827-41dd-b5cc-7acfbbbf8c69",
   "metadata": {},
   "source": [
    "#### K-Nearest Neighbors (KNN): "
   ]
  },
  {
   "cell_type": "code",
   "execution_count": 51,
   "id": "b92690e3-8c21-4c89-8a75-186b078bb74e",
   "metadata": {
    "tags": []
   },
   "outputs": [
    {
     "name": "stderr",
     "output_type": "stream",
     "text": [
      "Exception ignored on calling ctypes callback function: <function _ThreadpoolInfo._find_modules_with_dl_iterate_phdr.<locals>.match_module_callback at 0x7fcd9c4bee50>\n",
      "Traceback (most recent call last):\n",
      "  File \"/opt/conda/lib/python3.8/site-packages/threadpoolctl.py\", line 400, in match_module_callback\n",
      "    self._make_module_from_path(filepath)\n",
      "  File \"/opt/conda/lib/python3.8/site-packages/threadpoolctl.py\", line 515, in _make_module_from_path\n",
      "    module = module_class(filepath, prefix, user_api, internal_api)\n",
      "  File \"/opt/conda/lib/python3.8/site-packages/threadpoolctl.py\", line 606, in __init__\n",
      "    self.version = self.get_version()\n",
      "  File \"/opt/conda/lib/python3.8/site-packages/threadpoolctl.py\", line 646, in get_version\n",
      "    config = get_config().split()\n",
      "AttributeError: 'NoneType' object has no attribute 'split'\n"
     ]
    },
    {
     "name": "stdout",
     "output_type": "stream",
     "text": [
      "Classification Report:\n",
      "              precision    recall  f1-score   support\n",
      "\n",
      "           0       0.94      0.99      0.97       353\n",
      "           1       1.00      0.99      1.00      3133\n",
      "\n",
      "    accuracy                           0.99      3486\n",
      "   macro avg       0.97      0.99      0.98      3486\n",
      "weighted avg       0.99      0.99      0.99      3486\n",
      "\n",
      "Confusion Matrix:\n",
      "[[ 350    3]\n",
      " [  21 3112]]\n"
     ]
    }
   ],
   "source": [
    "from sklearn.neighbors import KNeighborsClassifier\n",
    "from sklearn.metrics import classification_report, confusion_matrix\n",
    "\n",
    "# Instantiate the KNeighborsClassifier model\n",
    "knn = KNeighborsClassifier()\n",
    "\n",
    "# Train the model on the resampled training data\n",
    "knn.fit(X_resampled, y_resampled)\n",
    "\n",
    "# Predictions on the test set\n",
    "y_pred = knn.predict(X_test)\n",
    "\n",
    "# Evaluate the model\n",
    "print(\"Classification Report:\")\n",
    "print(classification_report(y_test, y_pred))\n",
    "\n",
    "print(\"Confusion Matrix:\")\n",
    "print(confusion_matrix(y_test, y_pred))\n"
   ]
  },
  {
   "cell_type": "markdown",
   "id": "10b0c97d-14e3-45a0-8e45-9aea6433636f",
   "metadata": {},
   "source": [
    "#### GBM classifier:  keep crashing for me."
   ]
  },
  {
   "cell_type": "code",
   "execution_count": 52,
   "id": "d6c136c8-1d78-48cd-90d4-8a80de77f06b",
   "metadata": {
    "tags": []
   },
   "outputs": [
    {
     "name": "stdout",
     "output_type": "stream",
     "text": [
      "Confusion Matrix:\n",
      "[[ 353    0]\n",
      " [   3 3130]]\n",
      "\n",
      "Classification Report:\n",
      "              precision    recall  f1-score   support\n",
      "\n",
      "           0       0.99      1.00      1.00       353\n",
      "           1       1.00      1.00      1.00      3133\n",
      "\n",
      "    accuracy                           1.00      3486\n",
      "   macro avg       1.00      1.00      1.00      3486\n",
      "weighted avg       1.00      1.00      1.00      3486\n",
      "\n"
     ]
    }
   ],
   "source": [
    "from sklearn.metrics import confusion_matrix, classification_report\n",
    "\n",
    "# # Initialize the GBM classifier\n",
    "gbm = GradientBoostingClassifier(random_state=42)\n",
    "\n",
    "# # Train the model\n",
    "gbm.fit(X_resampled, y_resampled)\n",
    "\n",
    "# # Predict on the test set\n",
    "y_pred_gbm = gbm.predict(X_test)\n",
    "\n",
    "# # Print Confusion Matrix\n",
    "print(\"Confusion Matrix:\")\n",
    "print(confusion_matrix(y_test, y_pred_gbm))\n",
    "\n",
    "# # Print Classification Report\n",
    "print(\"\\nClassification Report:\")\n",
    "print(classification_report(y_test, y_pred_gbm))\n",
    "\n"
   ]
  },
  {
   "cell_type": "code",
   "execution_count": 53,
   "id": "07e28ba7-7bb0-4fdc-b64b-0e89231ddcf1",
   "metadata": {
    "tags": []
   },
   "outputs": [
    {
     "name": "stdout",
     "output_type": "stream",
     "text": [
      "Logistic Regression:\n",
      "Accuracy: 0.45611015490533563\n",
      "Recall (Sensitivity): 0.42770507500797955\n",
      "AUC: 0.6534939676241852\n",
      "Classification Report:\n",
      "              precision    recall  f1-score   support\n",
      "\n",
      "           0       0.12      0.71      0.21       353\n",
      "           1       0.93      0.43      0.59      3133\n",
      "\n",
      "    accuracy                           0.46      3486\n",
      "   macro avg       0.53      0.57      0.40      3486\n",
      "weighted avg       0.85      0.46      0.55      3486\n",
      "\n"
     ]
    },
    {
     "data": {
      "image/png": "[encoded data removed]",
      "text/plain": [
       "<Figure size 576x432 with 1 Axes>"
      ]
     },
     "metadata": {
      "needs_background": "light"
     },
     "output_type": "display_data"
    },
    {
     "name": "stdout",
     "output_type": "stream",
     "text": [
      "Neural Network:\n",
      "Accuracy: 0.7125645438898451\n",
      "Recall (Sensitivity): 0.6801787424194063\n",
      "AUC: 0.8967402655999508\n",
      "Classification Report:\n",
      "              precision    recall  f1-score   support\n",
      "\n",
      "           0       0.26      1.00      0.41       353\n",
      "           1       1.00      0.68      0.81      3133\n",
      "\n",
      "    accuracy                           0.71      3486\n",
      "   macro avg       0.63      0.84      0.61      3486\n",
      "weighted avg       0.93      0.71      0.77      3486\n",
      "\n"
     ]
    },
    {
     "data": {
      "image/png": "[encoded data removed]",
      "text/plain": [
       "<Figure size 576x432 with 1 Axes>"
      ]
     },
     "metadata": {
      "needs_background": "light"
     },
     "output_type": "display_data"
    },
    {
     "name": "stderr",
     "output_type": "stream",
     "text": [
      "Exception ignored on calling ctypes callback function: <function _ThreadpoolInfo._find_modules_with_dl_iterate_phdr.<locals>.match_module_callback at 0x7fcdb60efca0>\n",
      "Traceback (most recent call last):\n",
      "  File \"/opt/conda/lib/python3.8/site-packages/threadpoolctl.py\", line 400, in match_module_callback\n",
      "    self._make_module_from_path(filepath)\n",
      "  File \"/opt/conda/lib/python3.8/site-packages/threadpoolctl.py\", line 515, in _make_module_from_path\n",
      "    module = module_class(filepath, prefix, user_api, internal_api)\n",
      "  File \"/opt/conda/lib/python3.8/site-packages/threadpoolctl.py\", line 606, in __init__\n",
      "    self.version = self.get_version()\n",
      "  File \"/opt/conda/lib/python3.8/site-packages/threadpoolctl.py\", line 646, in get_version\n",
      "    config = get_config().split()\n",
      "AttributeError: 'NoneType' object has no attribute 'split'\n"
     ]
    },
    {
     "name": "stdout",
     "output_type": "stream",
     "text": [
      "K-Nearest Neighbors (KNN):\n"
     ]
    },
    {
     "name": "stderr",
     "output_type": "stream",
     "text": [
      "Exception ignored on calling ctypes callback function: <function _ThreadpoolInfo._find_modules_with_dl_iterate_phdr.<locals>.match_module_callback at 0x7fcd9c4bee50>\n",
      "Traceback (most recent call last):\n",
      "  File \"/opt/conda/lib/python3.8/site-packages/threadpoolctl.py\", line 400, in match_module_callback\n",
      "    self._make_module_from_path(filepath)\n",
      "  File \"/opt/conda/lib/python3.8/site-packages/threadpoolctl.py\", line 515, in _make_module_from_path\n",
      "    module = module_class(filepath, prefix, user_api, internal_api)\n",
      "  File \"/opt/conda/lib/python3.8/site-packages/threadpoolctl.py\", line 606, in __init__\n",
      "    self.version = self.get_version()\n",
      "  File \"/opt/conda/lib/python3.8/site-packages/threadpoolctl.py\", line 646, in get_version\n",
      "    config = get_config().split()\n",
      "AttributeError: 'NoneType' object has no attribute 'split'\n"
     ]
    },
    {
     "name": "stdout",
     "output_type": "stream",
     "text": [
      "Accuracy: 0.9931153184165232\n",
      "Recall (Sensitivity): 0.993297159272263\n",
      "AUC: 0.9965735309675221\n",
      "Classification Report:\n",
      "              precision    recall  f1-score   support\n",
      "\n",
      "           0       0.94      0.99      0.97       353\n",
      "           1       1.00      0.99      1.00      3133\n",
      "\n",
      "    accuracy                           0.99      3486\n",
      "   macro avg       0.97      0.99      0.98      3486\n",
      "weighted avg       0.99      0.99      0.99      3486\n",
      "\n"
     ]
    },
    {
     "data": {
      "image/png": "[encoded data removed]",
      "text/plain": [
       "<Figure size 576x432 with 1 Axes>"
      ]
     },
     "metadata": {
      "needs_background": "light"
     },
     "output_type": "display_data"
    }
   ],
   "source": [
    "from sklearn.metrics import accuracy_score, recall_score, roc_auc_score, roc_curve, classification_report\n",
    "\n",
    "# Function to evaluate and print the performance of a model\n",
    "def evaluate_model(model, X_test, y_test):\n",
    "    # Predictions\n",
    "    y_pred = model.predict(X_test)\n",
    "    \n",
    "    # Accuracy\n",
    "    accuracy = accuracy_score(y_test, y_pred)\n",
    "    print(\"Accuracy:\", accuracy)\n",
    "    \n",
    "    # Recall (Sensitivity)\n",
    "    recall = recall_score(y_test, y_pred)\n",
    "    print(\"Recall (Sensitivity):\", recall)\n",
    "    \n",
    "    # ROC Curve and AUC\n",
    "    y_proba = model.predict_proba(X_test)[:, 1]\n",
    "    fpr, tpr, _ = roc_curve(y_test, y_proba)\n",
    "    auc = roc_auc_score(y_test, y_proba)\n",
    "    print(\"AUC:\", auc)\n",
    "    \n",
    "    # Classification Report\n",
    "    print(\"Classification Report:\")\n",
    "    print(classification_report(y_test, y_pred))\n",
    "    \n",
    "    # Plot ROC Curve\n",
    "    plt.figure(figsize=(8, 6))\n",
    "    plt.plot(fpr, tpr, label='ROC curve (area = %0.2f)' % auc)\n",
    "    plt.plot([0, 1], [0, 1], 'k--')\n",
    "    plt.xlim([0.0, 1.0])\n",
    "    plt.ylim([0.0, 1.05])\n",
    "    plt.xlabel('False Positive Rate')\n",
    "    plt.ylabel('True Positive Rate')\n",
    "    plt.title('Receiver Operating Characteristic (ROC) Curve')\n",
    "    plt.legend(loc=\"lower right\")\n",
    "    plt.show()\n",
    "\n",
    "# Evaluate Logistic Regression\n",
    "print(\"Logistic Regression:\")\n",
    "evaluate_model(logistic_regression, X_test, y_test)\n",
    "\n",
    "# Evaluate Neural Network\n",
    "print(\"Neural Network:\")\n",
    "evaluate_model(neural_network, X_test, y_test)\n",
    "\n",
    "# Evaluate K-Nearest Neighbors (KNN)\n",
    "print(\"K-Nearest Neighbors (KNN):\")\n",
    "evaluate_model(knn, X_test, y_test)\n"
   ]
  },
  {
   "cell_type": "markdown",
   "id": "b45d6112-0194-4c20-af51-7e2f2dd4c22c",
   "metadata": {},
   "source": [
    "Based on the evaluation results, the three models perform differently:\n",
    "\n",
    "1. Logistic Regression:\n",
    "   - Accuracy: 0.456\n",
    "   - Recall (Sensitivity): 0.428\n",
    "   - AUC: 0.653\n",
    "   - Precision for class 0 (non-electric vehicles) is low at 0.12, indicating a high number of false positives.\n",
    "   - Precision for class 1 (electric vehicles) is high at 0.93, indicating a low number of false negatives.\n",
    "\n",
    "2. Neural Network:\n",
    "   - Accuracy: 0.713\n",
    "   - Recall (Sensitivity): 0.680\n",
    "   - AUC: 0.897\n",
    "   - Precision for class 0 is higher compared to logistic regression at 0.26, indicating fewer false positives.\n",
    "   - Precision for class 1 remains high at 1.00, indicating few false negatives.\n",
    "\n",
    "3. K-Nearest Neighbors (KNN):\n",
    "   - Accuracy: 0.993\n",
    "   - Recall (Sensitivity): 0.993\n",
    "   - AUC: 0.997\n",
    "   - Precision for both classes is high, with 0.94 for class 0 and 1.00 for class 1.\n",
    "\n",
    "The K-Nearest Neighbors (KNN) model outperforms both Logistic Regression and Neural Network models in terms of accuracy, recall, and AUC. It achieves near-perfect accuracy and a high AUC, indicating excellent predictive performance. However, it's essential to consider the trade-offs associated with the complexity and computational requirements of the KNN algorithm, especially for larger datasets.\n",
    "\n",
    "On the other hand, the Neural Network model shows a balanced performance with relatively high accuracy and recall. While it's computationally intensive, it provides a good balance between predictive performance and model complexity.\n",
    "\n",
    "Logistic Regression, although the simplest model among the three, exhibits the lowest performance metrics, with the lowest accuracy and recall. It struggles with both false positives and false negatives, indicating limitations in capturing the underlying patterns in the data.\n",
    "\n",
    "In conclusion, the K-Nearest Neighbors (KNN) model emerges as the best-performing model in this scenario, while Logistic Regression performs the worst. However, the choice of the best model ultimately depends on the specific requirements of the problem, computational resources, and interpretability considerations."
   ]
  }
 ],
 "metadata": {
  "availableInstances": [
   {
    "_defaultOrder": 0,
    "_isFastLaunch": true,
    "category": "General purpose",
    "gpuNum": 0,
    "hideHardwareSpecs": false,
    "memoryGiB": 4,
    "name": "ml.t3.medium",
    "vcpuNum": 2
   },
   {
    "_defaultOrder": 1,
    "_isFastLaunch": false,
    "category": "General purpose",
    "gpuNum": 0,
    "hideHardwareSpecs": false,
    "memoryGiB": 8,
    "name": "ml.t3.large",
    "vcpuNum": 2
   },
   {
    "_defaultOrder": 2,
    "_isFastLaunch": false,
    "category": "General purpose",
    "gpuNum": 0,
    "hideHardwareSpecs": false,
    "memoryGiB": 16,
    "name": "ml.t3.xlarge",
    "vcpuNum": 4
   },
   {
    "_defaultOrder": 3,
    "_isFastLaunch": false,
    "category": "General purpose",
    "gpuNum": 0,
    "hideHardwareSpecs": false,
    "memoryGiB": 32,
    "name": "ml.t3.2xlarge",
    "vcpuNum": 8
   },
   {
    "_defaultOrder": 4,
    "_isFastLaunch": true,
    "category": "General purpose",
    "gpuNum": 0,
    "hideHardwareSpecs": false,
    "memoryGiB": 8,
    "name": "ml.m5.large",
    "vcpuNum": 2
   },
   {
    "_defaultOrder": 5,
    "_isFastLaunch": false,
    "category": "General purpose",
    "gpuNum": 0,
    "hideHardwareSpecs": false,
    "memoryGiB": 16,
    "name": "ml.m5.xlarge",
    "vcpuNum": 4
   },
   {
    "_defaultOrder": 6,
    "_isFastLaunch": false,
    "category": "General purpose",
    "gpuNum": 0,
    "hideHardwareSpecs": false,
    "memoryGiB": 32,
    "name": "ml.m5.2xlarge",
    "vcpuNum": 8
   },
   {
    "_defaultOrder": 7,
    "_isFastLaunch": false,
    "category": "General purpose",
    "gpuNum": 0,
    "hideHardwareSpecs": false,
    "memoryGiB": 64,
    "name": "ml.m5.4xlarge",
    "vcpuNum": 16
   },
   {
    "_defaultOrder": 8,
    "_isFastLaunch": false,
    "category": "General purpose",
    "gpuNum": 0,
    "hideHardwareSpecs": false,
    "memoryGiB": 128,
    "name": "ml.m5.8xlarge",
    "vcpuNum": 32
   },
   {
    "_defaultOrder": 9,
    "_isFastLaunch": false,
    "category": "General purpose",
    "gpuNum": 0,
    "hideHardwareSpecs": false,
    "memoryGiB": 192,
    "name": "ml.m5.12xlarge",
    "vcpuNum": 48
   },
   {
    "_defaultOrder": 10,
    "_isFastLaunch": false,
    "category": "General purpose",
    "gpuNum": 0,
    "hideHardwareSpecs": false,
    "memoryGiB": 256,
    "name": "ml.m5.16xlarge",
    "vcpuNum": 64
   },
   {
    "_defaultOrder": 11,
    "_isFastLaunch": false,
    "category": "General purpose",
    "gpuNum": 0,
    "hideHardwareSpecs": false,
    "memoryGiB": 384,
    "name": "ml.m5.24xlarge",
    "vcpuNum": 96
   },
   {
    "_defaultOrder": 12,
    "_isFastLaunch": false,
    "category": "General purpose",
    "gpuNum": 0,
    "hideHardwareSpecs": false,
    "memoryGiB": 8,
    "name": "ml.m5d.large",
    "vcpuNum": 2
   },
   {
    "_defaultOrder": 13,
    "_isFastLaunch": false,
    "category": "General purpose",
    "gpuNum": 0,
    "hideHardwareSpecs": false,
    "memoryGiB": 16,
    "name": "ml.m5d.xlarge",
    "vcpuNum": 4
   },
   {
    "_defaultOrder": 14,
    "_isFastLaunch": false,
    "category": "General purpose",
    "gpuNum": 0,
    "hideHardwareSpecs": false,
    "memoryGiB": 32,
    "name": "ml.m5d.2xlarge",
    "vcpuNum": 8
   },
   {
    "_defaultOrder": 15,
    "_isFastLaunch": false,
    "category": "General purpose",
    "gpuNum": 0,
    "hideHardwareSpecs": false,
    "memoryGiB": 64,
    "name": "ml.m5d.4xlarge",
    "vcpuNum": 16
   },
   {
    "_defaultOrder": 16,
    "_isFastLaunch": false,
    "category": "General purpose",
    "gpuNum": 0,
    "hideHardwareSpecs": false,
    "memoryGiB": 128,
    "name": "ml.m5d.8xlarge",
    "vcpuNum": 32
   },
   {
    "_defaultOrder": 17,
    "_isFastLaunch": false,
    "category": "General purpose",
    "gpuNum": 0,
    "hideHardwareSpecs": false,
    "memoryGiB": 192,
    "name": "ml.m5d.12xlarge",
    "vcpuNum": 48
   },
   {
    "_defaultOrder": 18,
    "_isFastLaunch": false,
    "category": "General purpose",
    "gpuNum": 0,
    "hideHardwareSpecs": false,
    "memoryGiB": 256,
    "name": "ml.m5d.16xlarge",
    "vcpuNum": 64
   },
   {
    "_defaultOrder": 19,
    "_isFastLaunch": false,
    "category": "General purpose",
    "gpuNum": 0,
    "hideHardwareSpecs": false,
    "memoryGiB": 384,
    "name": "ml.m5d.24xlarge",
    "vcpuNum": 96
   },
   {
    "_defaultOrder": 20,
    "_isFastLaunch": false,
    "category": "General purpose",
    "gpuNum": 0,
    "hideHardwareSpecs": true,
    "memoryGiB": 0,
    "name": "ml.geospatial.interactive",
    "supportedImageNames": [
     "sagemaker-geospatial-v1-0"
    ],
    "vcpuNum": 0
   },
   {
    "_defaultOrder": 21,
    "_isFastLaunch": true,
    "category": "Compute optimized",
    "gpuNum": 0,
    "hideHardwareSpecs": false,
    "memoryGiB": 4,
    "name": "ml.c5.large",
    "vcpuNum": 2
   },
   {
    "_defaultOrder": 22,
    "_isFastLaunch": false,
    "category": "Compute optimized",
    "gpuNum": 0,
    "hideHardwareSpecs": false,
    "memoryGiB": 8,
    "name": "ml.c5.xlarge",
    "vcpuNum": 4
   },
   {
    "_defaultOrder": 23,
    "_isFastLaunch": false,
    "category": "Compute optimized",
    "gpuNum": 0,
    "hideHardwareSpecs": false,
    "memoryGiB": 16,
    "name": "ml.c5.2xlarge",
    "vcpuNum": 8
   },
   {
    "_defaultOrder": 24,
    "_isFastLaunch": false,
    "category": "Compute optimized",
    "gpuNum": 0,
    "hideHardwareSpecs": false,
    "memoryGiB": 32,
    "name": "ml.c5.4xlarge",
    "vcpuNum": 16
   },
   {
    "_defaultOrder": 25,
    "_isFastLaunch": false,
    "category": "Compute optimized",
    "gpuNum": 0,
    "hideHardwareSpecs": false,
    "memoryGiB": 72,
    "name": "ml.c5.9xlarge",
    "vcpuNum": 36
   },
   {
    "_defaultOrder": 26,
    "_isFastLaunch": false,
    "category": "Compute optimized",
    "gpuNum": 0,
    "hideHardwareSpecs": false,
    "memoryGiB": 96,
    "name": "ml.c5.12xlarge",
    "vcpuNum": 48
   },
   {
    "_defaultOrder": 27,
    "_isFastLaunch": false,
    "category": "Compute optimized",
    "gpuNum": 0,
    "hideHardwareSpecs": false,
    "memoryGiB": 144,
    "name": "ml.c5.18xlarge",
    "vcpuNum": 72
   },
   {
    "_defaultOrder": 28,
    "_isFastLaunch": false,
    "category": "Compute optimized",
    "gpuNum": 0,
    "hideHardwareSpecs": false,
    "memoryGiB": 192,
    "name": "ml.c5.24xlarge",
    "vcpuNum": 96
   },
   {
    "_defaultOrder": 29,
    "_isFastLaunch": true,
    "category": "Accelerated computing",
    "gpuNum": 1,
    "hideHardwareSpecs": false,
    "memoryGiB": 16,
    "name": "ml.g4dn.xlarge",
    "vcpuNum": 4
   },
   {
    "_defaultOrder": 30,
    "_isFastLaunch": false,
    "category": "Accelerated computing",
    "gpuNum": 1,
    "hideHardwareSpecs": false,
    "memoryGiB": 32,
    "name": "ml.g4dn.2xlarge",
    "vcpuNum": 8
   },
   {
    "_defaultOrder": 31,
    "_isFastLaunch": false,
    "category": "Accelerated computing",
    "gpuNum": 1,
    "hideHardwareSpecs": false,
    "memoryGiB": 64,
    "name": "ml.g4dn.4xlarge",
    "vcpuNum": 16
   },
   {
    "_defaultOrder": 32,
    "_isFastLaunch": false,
    "category": "Accelerated computing",
    "gpuNum": 1,
    "hideHardwareSpecs": false,
    "memoryGiB": 128,
    "name": "ml.g4dn.8xlarge",
    "vcpuNum": 32
   },
   {
    "_defaultOrder": 33,
    "_isFastLaunch": false,
    "category": "Accelerated computing",
    "gpuNum": 4,
    "hideHardwareSpecs": false,
    "memoryGiB": 192,
    "name": "ml.g4dn.12xlarge",
    "vcpuNum": 48
   },
   {
    "_defaultOrder": 34,
    "_isFastLaunch": false,
    "category": "Accelerated computing",
    "gpuNum": 1,
    "hideHardwareSpecs": false,
    "memoryGiB": 256,
    "name": "ml.g4dn.16xlarge",
    "vcpuNum": 64
   },
   {
    "_defaultOrder": 35,
    "_isFastLaunch": false,
    "category": "Accelerated computing",
    "gpuNum": 1,
    "hideHardwareSpecs": false,
    "memoryGiB": 61,
    "name": "ml.p3.2xlarge",
    "vcpuNum": 8
   },
   {
    "_defaultOrder": 36,
    "_isFastLaunch": false,
    "category": "Accelerated computing",
    "gpuNum": 4,
    "hideHardwareSpecs": false,
    "memoryGiB": 244,
    "name": "ml.p3.8xlarge",
    "vcpuNum": 32
   },
   {
    "_defaultOrder": 37,
    "_isFastLaunch": false,
    "category": "Accelerated computing",
    "gpuNum": 8,
    "hideHardwareSpecs": false,
    "memoryGiB": 488,
    "name": "ml.p3.16xlarge",
    "vcpuNum": 64
   },
   {
    "_defaultOrder": 38,
    "_isFastLaunch": false,
    "category": "Accelerated computing",
    "gpuNum": 8,
    "hideHardwareSpecs": false,
    "memoryGiB": 768,
    "name": "ml.p3dn.24xlarge",
    "vcpuNum": 96
   },
   {
    "_defaultOrder": 39,
    "_isFastLaunch": false,
    "category": "Memory Optimized",
    "gpuNum": 0,
    "hideHardwareSpecs": false,
    "memoryGiB": 16,
    "name": "ml.r5.large",
    "vcpuNum": 2
   },
   {
    "_defaultOrder": 40,
    "_isFastLaunch": false,
    "category": "Memory Optimized",
    "gpuNum": 0,
    "hideHardwareSpecs": false,
    "memoryGiB": 32,
    "name": "ml.r5.xlarge",
    "vcpuNum": 4
   },
   {
    "_defaultOrder": 41,
    "_isFastLaunch": false,
    "category": "Memory Optimized",
    "gpuNum": 0,
    "hideHardwareSpecs": false,
    "memoryGiB": 64,
    "name": "ml.r5.2xlarge",
    "vcpuNum": 8
   },
   {
    "_defaultOrder": 42,
    "_isFastLaunch": false,
    "category": "Memory Optimized",
    "gpuNum": 0,
    "hideHardwareSpecs": false,
    "memoryGiB": 128,
    "name": "ml.r5.4xlarge",
    "vcpuNum": 16
   },
   {
    "_defaultOrder": 43,
    "_isFastLaunch": false,
    "category": "Memory Optimized",
    "gpuNum": 0,
    "hideHardwareSpecs": false,
    "memoryGiB": 256,
    "name": "ml.r5.8xlarge",
    "vcpuNum": 32
   },
   {
    "_defaultOrder": 44,
    "_isFastLaunch": false,
    "category": "Memory Optimized",
    "gpuNum": 0,
    "hideHardwareSpecs": false,
    "memoryGiB": 384,
    "name": "ml.r5.12xlarge",
    "vcpuNum": 48
   },
   {
    "_defaultOrder": 45,
    "_isFastLaunch": false,
    "category": "Memory Optimized",
    "gpuNum": 0,
    "hideHardwareSpecs": false,
    "memoryGiB": 512,
    "name": "ml.r5.16xlarge",
    "vcpuNum": 64
   },
   {
    "_defaultOrder": 46,
    "_isFastLaunch": false,
    "category": "Memory Optimized",
    "gpuNum": 0,
    "hideHardwareSpecs": false,
    "memoryGiB": 768,
    "name": "ml.r5.24xlarge",
    "vcpuNum": 96
   },
   {
    "_defaultOrder": 47,
    "_isFastLaunch": false,
    "category": "Accelerated computing",
    "gpuNum": 1,
    "hideHardwareSpecs": false,
    "memoryGiB": 16,
    "name": "ml.g5.xlarge",
    "vcpuNum": 4
   },
   {
    "_defaultOrder": 48,
    "_isFastLaunch": false,
    "category": "Accelerated computing",
    "gpuNum": 1,
    "hideHardwareSpecs": false,
    "memoryGiB": 32,
    "name": "ml.g5.2xlarge",
    "vcpuNum": 8
   },
   {
    "_defaultOrder": 49,
    "_isFastLaunch": false,
    "category": "Accelerated computing",
    "gpuNum": 1,
    "hideHardwareSpecs": false,
    "memoryGiB": 64,
    "name": "ml.g5.4xlarge",
    "vcpuNum": 16
   },
   {
    "_defaultOrder": 50,
    "_isFastLaunch": false,
    "category": "Accelerated computing",
    "gpuNum": 1,
    "hideHardwareSpecs": false,
    "memoryGiB": 128,
    "name": "ml.g5.8xlarge",
    "vcpuNum": 32
   },
   {
    "_defaultOrder": 51,
    "_isFastLaunch": false,
    "category": "Accelerated computing",
    "gpuNum": 1,
    "hideHardwareSpecs": false,
    "memoryGiB": 256,
    "name": "ml.g5.16xlarge",
    "vcpuNum": 64
   },
   {
    "_defaultOrder": 52,
    "_isFastLaunch": false,
    "category": "Accelerated computing",
    "gpuNum": 4,
    "hideHardwareSpecs": false,
    "memoryGiB": 192,
    "name": "ml.g5.12xlarge",
    "vcpuNum": 48
   },
   {
    "_defaultOrder": 53,
    "_isFastLaunch": false,
    "category": "Accelerated computing",
    "gpuNum": 4,
    "hideHardwareSpecs": false,
    "memoryGiB": 384,
    "name": "ml.g5.24xlarge",
    "vcpuNum": 96
   },
   {
    "_defaultOrder": 54,
    "_isFastLaunch": false,
    "category": "Accelerated computing",
    "gpuNum": 8,
    "hideHardwareSpecs": false,
    "memoryGiB": 768,
    "name": "ml.g5.48xlarge",
    "vcpuNum": 192
   },
   {
    "_defaultOrder": 55,
    "_isFastLaunch": false,
    "category": "Accelerated computing",
    "gpuNum": 8,
    "hideHardwareSpecs": false,
    "memoryGiB": 1152,
    "name": "ml.p4d.24xlarge",
    "vcpuNum": 96
   },
   {
    "_defaultOrder": 56,
    "_isFastLaunch": false,
    "category": "Accelerated computing",
    "gpuNum": 8,
    "hideHardwareSpecs": false,
    "memoryGiB": 1152,
    "name": "ml.p4de.24xlarge",
    "vcpuNum": 96
   },
   {
    "_defaultOrder": 57,
    "_isFastLaunch": false,
    "category": "Accelerated computing",
    "gpuNum": 0,
    "hideHardwareSpecs": false,
    "memoryGiB": 32,
    "name": "ml.trn1.2xlarge",
    "vcpuNum": 8
   },
   {
    "_defaultOrder": 58,
    "_isFastLaunch": false,
    "category": "Accelerated computing",
    "gpuNum": 0,
    "hideHardwareSpecs": false,
    "memoryGiB": 512,
    "name": "ml.trn1.32xlarge",
    "vcpuNum": 128
   },
   {
    "_defaultOrder": 59,
    "_isFastLaunch": false,
    "category": "Accelerated computing",
    "gpuNum": 0,
    "hideHardwareSpecs": false,
    "memoryGiB": 512,
    "name": "ml.trn1n.32xlarge",
    "vcpuNum": 128
   }
  ],
  "instance_type": "ml.t3.medium",
  "kernelspec": {
   "display_name": "Python 3 (Data Science 2.0)",
   "language": "python",
   "name": "python3__SAGEMAKER_INTERNAL__arn:aws:sagemaker:us-east-1:081325390199:image/sagemaker-data-science-38"
  },
  "language_info": {
   "codemirror_mode": {
    "name": "ipython",
    "version": 3
   },
   "file_extension": ".py",
   "mimetype": "text/x-python",
   "name": "python",
   "nbconvert_exporter": "python",
   "pygments_lexer": "ipython3",
   "version": "3.8.13"
  }
 },
 "nbformat": 4,
 "nbformat_minor": 5
}
